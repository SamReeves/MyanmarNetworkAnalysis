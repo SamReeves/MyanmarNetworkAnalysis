{
 "cells": [
  {
   "cell_type": "markdown",
   "id": "06fe11d9",
   "metadata": {},
   "source": [
    "# DATA620 Final Project A\n",
    "## Network Analysis\n",
    "### Euclid Zhang ~ Sam Reeves ~ David Moste\n",
    "\n",
    "# Project Description\n",
    "***\n",
    "\n",
    "We would like to find businesses (or ideally people) who are influential in drawing foreign and domestic investment in Myanmar.  Through basic network analysis techniques, we hope to find a clique of people or companies with common investment sources or common activities.\n",
    "\n",
    "# Data Description\n",
    "***\n",
    "\n",
    "This data was scraped and realeased anonymously from official government sources in two leaks called Myanmar Financials and Myanmar Investments.  The former is incorporation documents for ~125k companies, and the latter is information from investment proposals for about 10k companies.\n",
    "\n",
    "# Known Challenges\n",
    "***\n",
    "\n",
    "1. About 1/4 of the companies in Myanmar Financials paid somebody to approve their incorporation documents without addresses or names.\n",
    "\n",
    "2. Comparatively few companies in the first leak have applied for investment permission.\n",
    "\n",
    "3. People in Myanmar are named for astrological information pertaining to their birth.  There is no family name, and many people have the same names.\n",
    "\n",
    "4. A small number of names are given in Burmese script, which is included in UTF-8, but is unreadable to our team."
   ]
  },
  {
   "cell_type": "code",
   "execution_count": 1,
   "id": "339341fd",
   "metadata": {},
   "outputs": [],
   "source": [
    "import os\n",
    "from pathlib import *\n",
    "import json\n",
    "import pandas as pd\n",
    "import networkx as nx\n",
    "import matplotlib as plt\n",
    "from bs4 import BeautifulSoup"
   ]
  },
  {
   "cell_type": "code",
   "execution_count": 2,
   "id": "d6cac666",
   "metadata": {},
   "outputs": [],
   "source": [
    "# Company incorporation documents\n",
    "com_dir = Path('/home/s/fpa/data/company_info')\n",
    "\n",
    "# Investment proposals and information about real projects\n",
    "inv_dir = Path('/home/s/fpa/data/investment_info')\n",
    "\n",
    "# Definitions for codes found in the above documents\n",
    "#def_dir = Path('/home/s/fpa/data/definitions')"
   ]
  },
  {
   "cell_type": "markdown",
   "id": "24407881",
   "metadata": {},
   "source": [
    "# Helper Functions\n",
    "***\n",
    "#### pathToList()\n",
    "- Takes a Path object for a directory full of JSON files\n",
    "- Returns a list containing a dict for each file read in\n",
    "\n",
    "#### companyInfo()\n",
    "- Takes a list of dicts\n",
    "- Extracts Company Name, Addresses, Officers, and Officer Titles\n",
    "- Returns a DataFrame with this information\n",
    "\n",
    "#### investmentInfo()\n",
    "- Takes a list of dicts\n",
    "- Extracts ???\n",
    "- Returns a DataFrame with this information"
   ]
  },
  {
   "cell_type": "code",
   "execution_count": 3,
   "id": "c6317ddc",
   "metadata": {},
   "outputs": [],
   "source": [
    "def pathToList(path_obj):\n",
    "    file_list = []\n",
    "    for file_path in path_obj.iterdir():\n",
    "        data = json.loads(file_path.read_bytes())\n",
    "        file_list.append(data)\n",
    "    return(file_list)\n",
    "\n",
    "def companyInfo(com_list):\n",
    "    info_list = []\n",
    "    \n",
    "    # Iterate over all companies in the list\n",
    "    for i in range(len(com_list)):\n",
    "        info = {}\n",
    "        \n",
    "        # Extract Company Name to \"title\"\n",
    "        info['title'] = com_list[i]['Corp']['CompanyName']\n",
    "        \n",
    "        # Extract Company Addresses\n",
    "        for a in range(len(com_list[i]['Addresses'])):\n",
    "            info['address' + str(a)] = BeautifulSoup(com_list[i]['Addresses'][a]['UIFormattedAddress']).get_text()\n",
    "        \n",
    "        # Extract Officer Information\n",
    "        for b in range(len(com_list[i]['Officers'])):\n",
    "            info['officer' + str(b) + 'name'] = com_list[i]['Officers'][b]['FullNameNormalized']\n",
    "            info['officer' + str(b) + 'type'] = com_list[i]['Officers'][b]['OfficerType']\n",
    "            \n",
    "        # Convert to DataFrame\n",
    "        info_list.append(info)\n",
    "    df = pd.DataFrame.from_dict(info_list, orient = 'columns')\n",
    "    return(df)\n",
    "\n",
    "def investmentInfo(inv_list):\n",
    "    overdue = pd.DataFrame.from_dict([x for x in inv_list[0]['data']], orient = 'columns')\n",
    "    approved = pd.DataFrame.from_dict([x for x in inv_list[1]['data']], orient = 'columns')\n",
    "    proposals = pd.DataFrame.from_dict([x for x in inv_list[2]['data']], orient = 'columns')\n",
    "    actuals = pd.DataFrame.from_dict([x for x in inv_list[3]['data']], orient = 'columns')\n",
    "    landlease = pd.DataFrame.from_dict([x for x in inv_list[4]['data']], orient = 'columns')\n",
    "    monitor = pd.DataFrame.from_dict([x for x in inv_list[5]['data']], orient = 'columns')\n",
    "    \n",
    "    return()"
   ]
  },
  {
   "cell_type": "markdown",
   "id": "cdbc4b20",
   "metadata": {},
   "source": [
    "# Preprocessing\n",
    "***"
   ]
  },
  {
   "cell_type": "code",
   "execution_count": 4,
   "id": "42c0d13b",
   "metadata": {},
   "outputs": [
    {
     "data": {
      "text/plain": [
       "['commercialoperationsoverdue.json',\n",
       " 'approved.json',\n",
       " 'proposals.json',\n",
       " 'actuals.json',\n",
       " 'landlease.json',\n",
       " 'monitor.json']"
      ]
     },
     "execution_count": 4,
     "metadata": {},
     "output_type": "execute_result"
    }
   ],
   "source": [
    "companies = companyInfo(pathToList(com_dir))\n",
    "inv_list = pathToList(inv_dir)\n",
    "os.listdir(inv_dir)"
   ]
  },
  {
   "cell_type": "code",
   "execution_count": 5,
   "id": "d4bcb55b",
   "metadata": {},
   "outputs": [],
   "source": [
    "com_with_info = companies.dropna(subset = ['address0', 'officer0name'], how = 'all')"
   ]
  },
  {
   "cell_type": "code",
   "execution_count": 38,
   "id": "9b490e7d",
   "metadata": {
    "scrolled": false
   },
   "outputs": [
    {
     "data": {
      "text/plain": [
       "819"
      ]
     },
     "execution_count": 38,
     "metadata": {},
     "output_type": "execute_result"
    }
   ],
   "source": [
    "len(inv_list[0]['data'])"
   ]
  },
  {
   "cell_type": "raw",
   "id": "18011275",
   "metadata": {},
   "source": [
    "0: id, nameOfInvestor, companyNameInMyanmar, permitNo, typeOfInvestment\n",
    "\n",
    "1: id, nameOfInvestor, companyNameInMyanmar, permitNo, typeOfInvestmentBusiness, investingCountryId, sector, status, formOfInvestments (list)\n",
    "\n",
    "2: id, amountOfForeignCapital, annualLeaseFee, annualLeaseFeeCurrencyID, companyNameInMyanmar, investingCountry, landOwnder, nameOfPrincipple, totalNoOfForeignEmployee, totalNoOfLocalEmployee, nameOfInvestor, typeOfInvestmentBusiness, totalAmountOfCapital, totalAmountOfCapitalCurrency\n",
    "\n",
    "3: id, nameOfInvestor, companyNameInMyanmar, status, permitNo, sector, typeOfInvestmentBusiness, permitNo\n",
    "\n",
    "4: id, permitNo, companyNameInMyanmar, nameOfInvestor, investingCountry, sector, typeOfInvestmentBusiness, state, township\n",
    "\n",
    "5: id, nameOfInvestor, companyNameInMyanmar, status, permitNo, sector, formOfInvestment, investingCountry, typeOfInvestmentBusiness"
   ]
  },
  {
   "cell_type": "markdown",
   "id": "5597e45d",
   "metadata": {},
   "source": [
    "# Network Analysis\n",
    "***"
   ]
  },
  {
   "cell_type": "markdown",
   "id": "b82c0a57",
   "metadata": {},
   "source": [
    "# Conclusions\n",
    "***"
   ]
  }
 ],
 "metadata": {
  "kernelspec": {
   "display_name": "Python 3 (ipykernel)",
   "language": "python",
   "name": "python3"
  },
  "language_info": {
   "codemirror_mode": {
    "name": "ipython",
    "version": 3
   },
   "file_extension": ".py",
   "mimetype": "text/x-python",
   "name": "python",
   "nbconvert_exporter": "python",
   "pygments_lexer": "ipython3",
   "version": "3.9.6"
  }
 },
 "nbformat": 4,
 "nbformat_minor": 5
}
