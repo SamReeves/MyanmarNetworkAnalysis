{
 "cells": [
  {
   "cell_type": "markdown",
   "id": "06fe11d9",
   "metadata": {},
   "source": [
    "# DATA620 Final Project A\n",
    "## Network Analysis\n",
    "### Euclid Zhang ~ Sam Reeves ~ David Moste"
   ]
  },
  {
   "cell_type": "code",
   "execution_count": null,
   "id": "339341fd",
   "metadata": {},
   "outputs": [],
   "source": [
    "import pandas as pd\n",
    "import networkx as nx\n",
    "import matplotlib as plt"
   ]
  },
  {
   "cell_type": "markdown",
   "id": "cdbc4b20",
   "metadata": {},
   "source": [
    "# Data & Preprocessing\n",
    "***"
   ]
  },
  {
   "cell_type": "markdown",
   "id": "24407881",
   "metadata": {},
   "source": [
    "# Helper Functions\n",
    "***"
   ]
  },
  {
   "cell_type": "markdown",
   "id": "5597e45d",
   "metadata": {},
   "source": [
    "# Network Analysis\n",
    "***"
   ]
  },
  {
   "cell_type": "markdown",
   "id": "b82c0a57",
   "metadata": {},
   "source": [
    "# Conclusions\n",
    "***"
   ]
  }
 ],
 "metadata": {
  "kernelspec": {
   "display_name": "Python 3 (ipykernel)",
   "language": "python",
   "name": "python3"
  },
  "language_info": {
   "codemirror_mode": {
    "name": "ipython",
    "version": 3
   },
   "file_extension": ".py",
   "mimetype": "text/x-python",
   "name": "python",
   "nbconvert_exporter": "python",
   "pygments_lexer": "ipython3",
   "version": "3.9.6"
  }
 },
 "nbformat": 4,
 "nbformat_minor": 5
}
