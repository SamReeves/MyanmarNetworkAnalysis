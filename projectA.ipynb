{
 "cells": [
  {
   "cell_type": "markdown",
   "id": "06fe11d9",
   "metadata": {},
   "source": [
    "# DATA620 Final Project A\n",
    "## Network Analysis\n",
    "\n",
    "# Project Description\n",
    "***\n",
    "\n",
    "We would like to find businesses (or ideally people) who are influential in drawing foreign and domestic investment in Myanmar.  Through basic network analysis techniques, we hope to find a clique of people or companies with common investment sources or common activities.\n",
    "\n",
    "# Data Description\n",
    "***\n",
    "\n",
    "This data was scraped and realeased anonymously from official government sources in two leaks called Myanmar Financials and Myanmar Investments.  The former is incorporation documents for ~125k companies, and the latter is information from investment proposals for about 10k companies.\n",
    "\n",
    "# Known Challenges\n",
    "***\n",
    "\n",
    "1. About 1/4 of the companies in Myanmar Financials paid somebody to approve their incorporation documents without addresses or names... We can remove companies with no listed officers.\n",
    "\n",
    "2. People in Myanmar are named for astrological information pertaining to their birth.  There is no family name, and many people have the same names.  We also cannot do anything about this.\n",
    "\n",
    "3. A small number of names are given in Burmese script, which is included in UTF-8, but is unreadable to our team.  We can leave the script as-is, and remove punctuation.\n",
    "\n",
    "4. Most companies did not apply for investment approval.  We will focus only on companies with investment records.\n",
    "\n",
    "# Method\n",
    "***\n",
    "\n",
    "1. Import and clean the data\n",
    "2. Create an edge list:\n",
    "> |Company Name |People\n",
    "> --- | --- \n",
    "> |companyNameInMyanmar |officers, landOwner, nameOfInvestor\n",
    "3. Project bipartite graph, view statistics\n",
    "4. Trim edges, weighted by number of names per company\n",
    "5. Visualize"
   ]
  },
  {
   "cell_type": "code",
   "execution_count": 1,
   "id": "339341fd",
   "metadata": {},
   "outputs": [],
   "source": [
    "import os\n",
    "import scipy\n",
    "from pathlib import *\n",
    "import json\n",
    "import pandas as pd\n",
    "import networkx as nx\n",
    "from networkx.algorithms import bipartite\n",
    "import matplotlib.pyplot as plt\n",
    "from bs4 import BeautifulSoup\n",
    "import re\n",
    "import string\n",
    "from collections import defaultdict\n",
    "from itertools import combinations\n",
    "from pyvis.network import Network"
   ]
  },
  {
   "cell_type": "code",
   "execution_count": 2,
   "id": "d6cac666",
   "metadata": {},
   "outputs": [],
   "source": [
    "# Company incorporation documents\n",
    "com_dir = Path('/home/s/fpa/data/company_info')\n",
    "# Investment proposals and information about real projects\n",
    "inv_dir = Path('/home/s/fpa/data/investment_info')"
   ]
  },
  {
   "cell_type": "markdown",
   "id": "24407881",
   "metadata": {},
   "source": [
    "# Helper Functions\n",
    "***\n",
    "#### pathToList()\n",
    "- Takes a Path object for a directory full of JSON files\n",
    "- Returns a list containing a dict for each file read in\n",
    "\n",
    "#### companyInfo()\n",
    "- Takes a list of dicts\n",
    "- Extracts copmany name and names of officers\n",
    "- Returns a DataFrame with this information\n",
    "\n",
    "#### investmentInfo()\n",
    "- Takes a list of lists of dicts\n",
    "- Converts dicts to DataFrames\n",
    "- Returns list of DataFrames\n",
    "\n",
    "#### cleanDF()\n",
    "- Takes a DataFrame\n",
    "- Converts all letters to lowercase\n",
    "- Substitutes ltd with limited\n",
    "- Removes all punctuation\n",
    "\n",
    "#### defineEdges()\n",
    "- Takes company information and a list of other DataFrames\n",
    "- Creates dictionary with key company name and value list of people\n",
    "- Adds investors to edge list\n",
    "- Returns edge list dictionary\n",
    "\n",
    "#### expandEdges()\n",
    "- Takes a dictionary of company nodes with lists of connected people\n",
    "- Returns a list of edges with only two nodes on each line\n",
    "\n",
    "#### trimEdges()\n",
    "- Takes a networkX graph object and an integer\n",
    "- Trims away the connections weighted less than the integer\n",
    "- Returns a new networkX graph object\n",
    "\n",
    "#### islandMethod()"
   ]
  },
  {
   "cell_type": "code",
   "execution_count": 3,
   "id": "c6317ddc",
   "metadata": {},
   "outputs": [],
   "source": [
    "def pathToList(path_obj):\n",
    "    file_list = []\n",
    "    for file_path in path_obj.iterdir():\n",
    "        data = json.loads(file_path.read_bytes())\n",
    "        file_list.append(data)\n",
    "    return(file_list)\n",
    "\n",
    "def companyInfo(com_list):\n",
    "    info_list = []\n",
    "    # Iterate over all companies in the list\n",
    "    for i in range(len(com_list)):\n",
    "        info = {}\n",
    "        # Extract Company Name to \"companyNameInMyanmar\"\n",
    "        info['companyNameInMyanmar'] = com_list[i]['Corp']['CompanyName']\n",
    "        # Extract Officer names\n",
    "        for b in range(len(com_list[i]['Officers'])):\n",
    "            info['officer' + str(b)] = com_list[i]['Officers'][b]['FullNameNormalized']\n",
    "        # Convert to DataFrame\n",
    "        info_list.append(info)\n",
    "    df = pd.DataFrame.from_dict(info_list, orient = 'columns')\n",
    "    return(df)\n",
    "\n",
    "def investmentInfo(inv_list):\n",
    "    investments = []\n",
    "    # Extract data from investment documents\n",
    "    for i in range(len(inv_list)):\n",
    "        d = pd.DataFrame.from_dict(\n",
    "            [x for x in inv_list[i]['data']], orient = 'columns')\n",
    "        investments.append(d)\n",
    "    return(investments)\n",
    "\n",
    "def cleanDF(df):\n",
    "    # Convert to lowercase\n",
    "    df = df.applymap(str)\n",
    "    df = df.applymap(lambda s:s.lower())\n",
    "    # Remove some useless words\n",
    "    useless = set(('ltd', 'limited', 'company',))\n",
    "    for word in useless:\n",
    "        df = df.applymap(lambda s:s.replace(word, ''))\n",
    "    # Remove punctuation\n",
    "    df = df.applymap(lambda s:s.translate(str.maketrans('', '', string.punctuation)))\n",
    "    # Strip leading and trailing whitespace\n",
    "    df = df.applymap(lambda s:s.strip())\n",
    "    return(df)\n",
    "\n",
    "def defineEdges(companies, investments):\n",
    "    edges = {}\n",
    "    # add all companies to edge list\n",
    "    for i in range(len(companies)):\n",
    "        co = companies.iloc[i,0]\n",
    "        edges[co] = []\n",
    "\n",
    "        # add officers as connections\n",
    "        for j in range(1,68):\n",
    "            officer = companies.iloc[i,j]\n",
    "            if officer != 'nan':\n",
    "                edges[co].append(officer)\n",
    "            else:\n",
    "                break\n",
    "    for doc in investments:\n",
    "        doc = cleanDF(doc)\n",
    "        for i in range(len(doc)):\n",
    "            co = doc.iloc[i]['companyNameInMyanmar']\n",
    "            inv = doc.iloc[i]['nameOfInvestor']\n",
    "            # add remaining companies to edge list\n",
    "            if co not in edges.keys():\n",
    "                edges[co] = []\n",
    "            # add investors as connections\n",
    "            if inv not in edges[co]:\n",
    "                edges[co].append(str(inv).replace(' ', ''))\n",
    "    return(edges)\n",
    "\n",
    "def expandEdges(edges):\n",
    "    expanded_edges = []\n",
    "    for company in edges:\n",
    "        for person in company:\n",
    "            edge = (company, person)\n",
    "            expanded_edges.append(edge)\n",
    "    return(expanded_edges)\n",
    "\n",
    "def trimEdges(G, weight = 1):\n",
    "    G2 = nx.Graph()\n",
    "    edata = nx.to_pandas_edgelist(G)\n",
    "    f = edata['source']\n",
    "    to = edata['target']\n",
    "    \n",
    "    for f, to, edata in G.edges(data = True):\n",
    "        if edata['weight'] > weight:\n",
    "            G2.add_edge(f, to)\n",
    "    return G2\n",
    "\n",
    "def islandMethod(g, iterations = 17):\n",
    "    weights = [edata['weight'] for f, to, edata in g.edges(data = True)]\n",
    "    mn = 1\n",
    "    mx = iterations\n",
    "    step = 1\n",
    "    return([[threshold, trimEdges(g, threshold)]\n",
    "           for threshold in range(mn, mx, step)])"
   ]
  },
  {
   "cell_type": "markdown",
   "id": "cdbc4b20",
   "metadata": {},
   "source": [
    "# Preprocessing\n",
    "***"
   ]
  },
  {
   "cell_type": "code",
   "execution_count": 4,
   "id": "c22375ea",
   "metadata": {},
   "outputs": [],
   "source": [
    "companies = cleanDF(companyInfo(pathToList(com_dir)))\n",
    "# Drop rows with no names\n",
    "companies = companies[companies.officer0 != 'nan']"
   ]
  },
  {
   "cell_type": "code",
   "execution_count": 5,
   "id": "9de325ed",
   "metadata": {},
   "outputs": [],
   "source": [
    "investments = investmentInfo(pathToList(inv_dir))\n",
    "edges = defineEdges(companies, investments)\n",
    "expanded_edges = expandEdges(edges)"
   ]
  },
  {
   "cell_type": "code",
   "execution_count": 6,
   "id": "42c0d13b",
   "metadata": {},
   "outputs": [],
   "source": [
    "reversed_edges = defaultdict(list)\n",
    "for key, value in edges.items():\n",
    "    for item in value:\n",
    "        reversed_edges[item].append(key)"
   ]
  },
  {
   "cell_type": "markdown",
   "id": "5597e45d",
   "metadata": {},
   "source": [
    "# Network Analysis\n",
    "***\n",
    "\n",
    "We create a graph and project a new bipartite graph connecting companies to companies through the people nodes.  Repeated connections are given as greater weights.  We can then trim the edges of the graph progressively, showing which companies have the strongest connections to the other members of the network."
   ]
  },
  {
   "cell_type": "code",
   "execution_count": 30,
   "id": "6999c2de",
   "metadata": {},
   "outputs": [
    {
     "name": "stdout",
     "output_type": "stream",
     "text": [
      "Total Nodes:   217824 \n",
      " Total Edges:   1029353 \n",
      " Bipartite Nodes:   217784 \n",
      " Bipartite Edges:   4000128\n"
     ]
    }
   ],
   "source": [
    "G = nx.Graph()\n",
    "\n",
    "company_nodes = edges.keys()\n",
    "people_nodes = reversed_edges.keys()\n",
    "\n",
    "G.add_nodes_from(company_nodes, bipartite = 'Companies')\n",
    "G.add_nodes_from(people_nodes, bipartite = 'People')\n",
    "G.add_edges_from(expanded_edges)\n",
    "\n",
    "P = bipartite.weighted_projected_graph(G, people_nodes)\n",
    "\n",
    "print('Total Nodes:  ', G.number_of_nodes(),\n",
    "      '\\n',\n",
    "      'Total Edges:  ', G.number_of_edges(),\n",
    "      '\\n',\n",
    "      'Bipartite Nodes:  ', P.number_of_nodes(),\n",
    "      '\\n',\n",
    "      'Bipartite Edges:  ', P.number_of_edges())"
   ]
  },
  {
   "cell_type": "code",
   "execution_count": 10,
   "id": "c7ab4dd2",
   "metadata": {
    "scrolled": true
   },
   "outputs": [
    {
     "name": "stdout",
     "output_type": "stream",
     "text": [
      "Threshold: 1\n",
      "Number of Nodes: 92878\n",
      "Length of Connected Components\n"
     ]
    },
    {
     "data": {
      "text/html": [
       "<div>\n",
       "<style scoped>\n",
       "    .dataframe tbody tr th:only-of-type {\n",
       "        vertical-align: middle;\n",
       "    }\n",
       "\n",
       "    .dataframe tbody tr th {\n",
       "        vertical-align: top;\n",
       "    }\n",
       "\n",
       "    .dataframe thead th {\n",
       "        text-align: right;\n",
       "    }\n",
       "</style>\n",
       "<table border=\"1\" class=\"dataframe\">\n",
       "  <thead>\n",
       "    <tr style=\"text-align: right;\">\n",
       "      <th></th>\n",
       "      <th>96</th>\n",
       "      <th>92782</th>\n",
       "    </tr>\n",
       "  </thead>\n",
       "  <tbody>\n",
       "    <tr>\n",
       "      <th>0</th>\n",
       "      <td>1</td>\n",
       "      <td>1</td>\n",
       "    </tr>\n",
       "  </tbody>\n",
       "</table>\n",
       "</div>"
      ],
      "text/plain": [
       "   96     92782\n",
       "0      1      1"
      ]
     },
     "metadata": {},
     "output_type": "display_data"
    },
    {
     "name": "stdout",
     "output_type": "stream",
     "text": [
      "\n",
      "Threshold: 2\n",
      "Number of Nodes: 91320\n",
      "Length of Connected Components\n"
     ]
    },
    {
     "data": {
      "text/html": [
       "<div>\n",
       "<style scoped>\n",
       "    .dataframe tbody tr th:only-of-type {\n",
       "        vertical-align: middle;\n",
       "    }\n",
       "\n",
       "    .dataframe tbody tr th {\n",
       "        vertical-align: top;\n",
       "    }\n",
       "\n",
       "    .dataframe thead th {\n",
       "        text-align: right;\n",
       "    }\n",
       "</style>\n",
       "<table border=\"1\" class=\"dataframe\">\n",
       "  <thead>\n",
       "    <tr style=\"text-align: right;\">\n",
       "      <th></th>\n",
       "      <th>90</th>\n",
       "      <th>91230</th>\n",
       "    </tr>\n",
       "  </thead>\n",
       "  <tbody>\n",
       "    <tr>\n",
       "      <th>0</th>\n",
       "      <td>1</td>\n",
       "      <td>1</td>\n",
       "    </tr>\n",
       "  </tbody>\n",
       "</table>\n",
       "</div>"
      ],
      "text/plain": [
       "   90     91230\n",
       "0      1      1"
      ]
     },
     "metadata": {},
     "output_type": "display_data"
    },
    {
     "name": "stdout",
     "output_type": "stream",
     "text": [
      "\n",
      "Threshold: 3\n",
      "Number of Nodes: 87349\n",
      "Length of Connected Components\n"
     ]
    },
    {
     "data": {
      "text/html": [
       "<div>\n",
       "<style scoped>\n",
       "    .dataframe tbody tr th:only-of-type {\n",
       "        vertical-align: middle;\n",
       "    }\n",
       "\n",
       "    .dataframe tbody tr th {\n",
       "        vertical-align: top;\n",
       "    }\n",
       "\n",
       "    .dataframe thead th {\n",
       "        text-align: right;\n",
       "    }\n",
       "</style>\n",
       "<table border=\"1\" class=\"dataframe\">\n",
       "  <thead>\n",
       "    <tr style=\"text-align: right;\">\n",
       "      <th></th>\n",
       "      <th>86</th>\n",
       "      <th>87263</th>\n",
       "    </tr>\n",
       "  </thead>\n",
       "  <tbody>\n",
       "    <tr>\n",
       "      <th>0</th>\n",
       "      <td>1</td>\n",
       "      <td>1</td>\n",
       "    </tr>\n",
       "  </tbody>\n",
       "</table>\n",
       "</div>"
      ],
      "text/plain": [
       "   86     87263\n",
       "0      1      1"
      ]
     },
     "metadata": {},
     "output_type": "display_data"
    },
    {
     "name": "stdout",
     "output_type": "stream",
     "text": [
      "\n",
      "Threshold: 4\n",
      "Number of Nodes: 76616\n",
      "Length of Connected Components\n"
     ]
    },
    {
     "data": {
      "text/html": [
       "<div>\n",
       "<style scoped>\n",
       "    .dataframe tbody tr th:only-of-type {\n",
       "        vertical-align: middle;\n",
       "    }\n",
       "\n",
       "    .dataframe tbody tr th {\n",
       "        vertical-align: top;\n",
       "    }\n",
       "\n",
       "    .dataframe thead th {\n",
       "        text-align: right;\n",
       "    }\n",
       "</style>\n",
       "<table border=\"1\" class=\"dataframe\">\n",
       "  <thead>\n",
       "    <tr style=\"text-align: right;\">\n",
       "      <th></th>\n",
       "      <th>84</th>\n",
       "      <th>76532</th>\n",
       "    </tr>\n",
       "  </thead>\n",
       "  <tbody>\n",
       "    <tr>\n",
       "      <th>0</th>\n",
       "      <td>1</td>\n",
       "      <td>1</td>\n",
       "    </tr>\n",
       "  </tbody>\n",
       "</table>\n",
       "</div>"
      ],
      "text/plain": [
       "   84     76532\n",
       "0      1      1"
      ]
     },
     "metadata": {},
     "output_type": "display_data"
    },
    {
     "name": "stdout",
     "output_type": "stream",
     "text": [
      "\n",
      "Threshold: 5\n",
      "Number of Nodes: 55980\n",
      "Length of Connected Components\n"
     ]
    },
    {
     "data": {
      "text/html": [
       "<div>\n",
       "<style scoped>\n",
       "    .dataframe tbody tr th:only-of-type {\n",
       "        vertical-align: middle;\n",
       "    }\n",
       "\n",
       "    .dataframe tbody tr th {\n",
       "        vertical-align: top;\n",
       "    }\n",
       "\n",
       "    .dataframe thead th {\n",
       "        text-align: right;\n",
       "    }\n",
       "</style>\n",
       "<table border=\"1\" class=\"dataframe\">\n",
       "  <thead>\n",
       "    <tr style=\"text-align: right;\">\n",
       "      <th></th>\n",
       "      <th>82</th>\n",
       "      <th>55898</th>\n",
       "    </tr>\n",
       "  </thead>\n",
       "  <tbody>\n",
       "    <tr>\n",
       "      <th>0</th>\n",
       "      <td>1</td>\n",
       "      <td>1</td>\n",
       "    </tr>\n",
       "  </tbody>\n",
       "</table>\n",
       "</div>"
      ],
      "text/plain": [
       "   82     55898\n",
       "0      1      1"
      ]
     },
     "metadata": {},
     "output_type": "display_data"
    },
    {
     "name": "stdout",
     "output_type": "stream",
     "text": [
      "\n",
      "Threshold: 6\n",
      "Number of Nodes: 29292\n",
      "Length of Connected Components\n"
     ]
    },
    {
     "data": {
      "text/html": [
       "<div>\n",
       "<style scoped>\n",
       "    .dataframe tbody tr th:only-of-type {\n",
       "        vertical-align: middle;\n",
       "    }\n",
       "\n",
       "    .dataframe tbody tr th {\n",
       "        vertical-align: top;\n",
       "    }\n",
       "\n",
       "    .dataframe thead th {\n",
       "        text-align: right;\n",
       "    }\n",
       "</style>\n",
       "<table border=\"1\" class=\"dataframe\">\n",
       "  <thead>\n",
       "    <tr style=\"text-align: right;\">\n",
       "      <th></th>\n",
       "      <th>82</th>\n",
       "      <th>29210</th>\n",
       "    </tr>\n",
       "  </thead>\n",
       "  <tbody>\n",
       "    <tr>\n",
       "      <th>0</th>\n",
       "      <td>1</td>\n",
       "      <td>1</td>\n",
       "    </tr>\n",
       "  </tbody>\n",
       "</table>\n",
       "</div>"
      ],
      "text/plain": [
       "   82     29210\n",
       "0      1      1"
      ]
     },
     "metadata": {},
     "output_type": "display_data"
    },
    {
     "name": "stdout",
     "output_type": "stream",
     "text": [
      "\n",
      "Threshold: 7\n",
      "Number of Nodes: 8888\n",
      "Length of Connected Components\n"
     ]
    },
    {
     "data": {
      "text/html": [
       "<div>\n",
       "<style scoped>\n",
       "    .dataframe tbody tr th:only-of-type {\n",
       "        vertical-align: middle;\n",
       "    }\n",
       "\n",
       "    .dataframe tbody tr th {\n",
       "        vertical-align: top;\n",
       "    }\n",
       "\n",
       "    .dataframe thead th {\n",
       "        text-align: right;\n",
       "    }\n",
       "</style>\n",
       "<table border=\"1\" class=\"dataframe\">\n",
       "  <thead>\n",
       "    <tr style=\"text-align: right;\">\n",
       "      <th></th>\n",
       "      <th>79</th>\n",
       "      <th>8809</th>\n",
       "    </tr>\n",
       "  </thead>\n",
       "  <tbody>\n",
       "    <tr>\n",
       "      <th>0</th>\n",
       "      <td>1</td>\n",
       "      <td>1</td>\n",
       "    </tr>\n",
       "  </tbody>\n",
       "</table>\n",
       "</div>"
      ],
      "text/plain": [
       "   79    8809\n",
       "0     1     1"
      ]
     },
     "metadata": {},
     "output_type": "display_data"
    },
    {
     "name": "stdout",
     "output_type": "stream",
     "text": [
      "\n",
      "Threshold: 8\n",
      "Number of Nodes: 1325\n",
      "Length of Connected Components\n"
     ]
    },
    {
     "data": {
      "text/html": [
       "<div>\n",
       "<style scoped>\n",
       "    .dataframe tbody tr th:only-of-type {\n",
       "        vertical-align: middle;\n",
       "    }\n",
       "\n",
       "    .dataframe tbody tr th {\n",
       "        vertical-align: top;\n",
       "    }\n",
       "\n",
       "    .dataframe thead th {\n",
       "        text-align: right;\n",
       "    }\n",
       "</style>\n",
       "<table border=\"1\" class=\"dataframe\">\n",
       "  <thead>\n",
       "    <tr style=\"text-align: right;\">\n",
       "      <th></th>\n",
       "      <th>79</th>\n",
       "      <th>361</th>\n",
       "      <th>885</th>\n",
       "    </tr>\n",
       "  </thead>\n",
       "  <tbody>\n",
       "    <tr>\n",
       "      <th>0</th>\n",
       "      <td>1</td>\n",
       "      <td>1</td>\n",
       "      <td>1</td>\n",
       "    </tr>\n",
       "  </tbody>\n",
       "</table>\n",
       "</div>"
      ],
      "text/plain": [
       "   79   361  885\n",
       "0    1    1    1"
      ]
     },
     "metadata": {},
     "output_type": "display_data"
    },
    {
     "name": "stdout",
     "output_type": "stream",
     "text": [
      "\n",
      "Threshold: 9\n",
      "Number of Nodes: 439\n",
      "Length of Connected Components\n"
     ]
    },
    {
     "data": {
      "text/html": [
       "<div>\n",
       "<style scoped>\n",
       "    .dataframe tbody tr th:only-of-type {\n",
       "        vertical-align: middle;\n",
       "    }\n",
       "\n",
       "    .dataframe tbody tr th {\n",
       "        vertical-align: top;\n",
       "    }\n",
       "\n",
       "    .dataframe thead th {\n",
       "        text-align: right;\n",
       "    }\n",
       "</style>\n",
       "<table border=\"1\" class=\"dataframe\">\n",
       "  <thead>\n",
       "    <tr style=\"text-align: right;\">\n",
       "      <th></th>\n",
       "      <th>78</th>\n",
       "      <th>361</th>\n",
       "    </tr>\n",
       "  </thead>\n",
       "  <tbody>\n",
       "    <tr>\n",
       "      <th>0</th>\n",
       "      <td>1</td>\n",
       "      <td>1</td>\n",
       "    </tr>\n",
       "  </tbody>\n",
       "</table>\n",
       "</div>"
      ],
      "text/plain": [
       "   78   361\n",
       "0    1    1"
      ]
     },
     "metadata": {},
     "output_type": "display_data"
    },
    {
     "name": "stdout",
     "output_type": "stream",
     "text": [
      "\n",
      "Threshold: 10\n",
      "Number of Nodes: 438\n",
      "Length of Connected Components\n"
     ]
    },
    {
     "data": {
      "text/html": [
       "<div>\n",
       "<style scoped>\n",
       "    .dataframe tbody tr th:only-of-type {\n",
       "        vertical-align: middle;\n",
       "    }\n",
       "\n",
       "    .dataframe tbody tr th {\n",
       "        vertical-align: top;\n",
       "    }\n",
       "\n",
       "    .dataframe thead th {\n",
       "        text-align: right;\n",
       "    }\n",
       "</style>\n",
       "<table border=\"1\" class=\"dataframe\">\n",
       "  <thead>\n",
       "    <tr style=\"text-align: right;\">\n",
       "      <th></th>\n",
       "      <th>77</th>\n",
       "      <th>361</th>\n",
       "    </tr>\n",
       "  </thead>\n",
       "  <tbody>\n",
       "    <tr>\n",
       "      <th>0</th>\n",
       "      <td>1</td>\n",
       "      <td>1</td>\n",
       "    </tr>\n",
       "  </tbody>\n",
       "</table>\n",
       "</div>"
      ],
      "text/plain": [
       "   77   361\n",
       "0    1    1"
      ]
     },
     "metadata": {},
     "output_type": "display_data"
    },
    {
     "name": "stdout",
     "output_type": "stream",
     "text": [
      "\n",
      "Threshold: 11\n",
      "Number of Nodes: 437\n",
      "Length of Connected Components\n"
     ]
    },
    {
     "data": {
      "text/html": [
       "<div>\n",
       "<style scoped>\n",
       "    .dataframe tbody tr th:only-of-type {\n",
       "        vertical-align: middle;\n",
       "    }\n",
       "\n",
       "    .dataframe tbody tr th {\n",
       "        vertical-align: top;\n",
       "    }\n",
       "\n",
       "    .dataframe thead th {\n",
       "        text-align: right;\n",
       "    }\n",
       "</style>\n",
       "<table border=\"1\" class=\"dataframe\">\n",
       "  <thead>\n",
       "    <tr style=\"text-align: right;\">\n",
       "      <th></th>\n",
       "      <th>77</th>\n",
       "      <th>360</th>\n",
       "    </tr>\n",
       "  </thead>\n",
       "  <tbody>\n",
       "    <tr>\n",
       "      <th>0</th>\n",
       "      <td>1</td>\n",
       "      <td>1</td>\n",
       "    </tr>\n",
       "  </tbody>\n",
       "</table>\n",
       "</div>"
      ],
      "text/plain": [
       "   77   360\n",
       "0    1    1"
      ]
     },
     "metadata": {},
     "output_type": "display_data"
    },
    {
     "name": "stdout",
     "output_type": "stream",
     "text": [
      "\n",
      "Threshold: 12\n",
      "Number of Nodes: 427\n",
      "Length of Connected Components\n"
     ]
    },
    {
     "data": {
      "text/html": [
       "<div>\n",
       "<style scoped>\n",
       "    .dataframe tbody tr th:only-of-type {\n",
       "        vertical-align: middle;\n",
       "    }\n",
       "\n",
       "    .dataframe tbody tr th {\n",
       "        vertical-align: top;\n",
       "    }\n",
       "\n",
       "    .dataframe thead th {\n",
       "        text-align: right;\n",
       "    }\n",
       "</style>\n",
       "<table border=\"1\" class=\"dataframe\">\n",
       "  <thead>\n",
       "    <tr style=\"text-align: right;\">\n",
       "      <th></th>\n",
       "      <th>76</th>\n",
       "      <th>351</th>\n",
       "    </tr>\n",
       "  </thead>\n",
       "  <tbody>\n",
       "    <tr>\n",
       "      <th>0</th>\n",
       "      <td>1</td>\n",
       "      <td>1</td>\n",
       "    </tr>\n",
       "  </tbody>\n",
       "</table>\n",
       "</div>"
      ],
      "text/plain": [
       "   76   351\n",
       "0    1    1"
      ]
     },
     "metadata": {},
     "output_type": "display_data"
    },
    {
     "name": "stdout",
     "output_type": "stream",
     "text": [
      "\n",
      "Threshold: 13\n",
      "Number of Nodes: 417\n",
      "Length of Connected Components\n"
     ]
    },
    {
     "data": {
      "text/html": [
       "<div>\n",
       "<style scoped>\n",
       "    .dataframe tbody tr th:only-of-type {\n",
       "        vertical-align: middle;\n",
       "    }\n",
       "\n",
       "    .dataframe tbody tr th {\n",
       "        vertical-align: top;\n",
       "    }\n",
       "\n",
       "    .dataframe thead th {\n",
       "        text-align: right;\n",
       "    }\n",
       "</style>\n",
       "<table border=\"1\" class=\"dataframe\">\n",
       "  <thead>\n",
       "    <tr style=\"text-align: right;\">\n",
       "      <th></th>\n",
       "      <th>76</th>\n",
       "      <th>341</th>\n",
       "    </tr>\n",
       "  </thead>\n",
       "  <tbody>\n",
       "    <tr>\n",
       "      <th>0</th>\n",
       "      <td>1</td>\n",
       "      <td>1</td>\n",
       "    </tr>\n",
       "  </tbody>\n",
       "</table>\n",
       "</div>"
      ],
      "text/plain": [
       "   76   341\n",
       "0    1    1"
      ]
     },
     "metadata": {},
     "output_type": "display_data"
    },
    {
     "name": "stdout",
     "output_type": "stream",
     "text": [
      "\n",
      "Threshold: 14\n",
      "Number of Nodes: 381\n",
      "Length of Connected Components\n"
     ]
    },
    {
     "data": {
      "text/html": [
       "<div>\n",
       "<style scoped>\n",
       "    .dataframe tbody tr th:only-of-type {\n",
       "        vertical-align: middle;\n",
       "    }\n",
       "\n",
       "    .dataframe tbody tr th {\n",
       "        vertical-align: top;\n",
       "    }\n",
       "\n",
       "    .dataframe thead th {\n",
       "        text-align: right;\n",
       "    }\n",
       "</style>\n",
       "<table border=\"1\" class=\"dataframe\">\n",
       "  <thead>\n",
       "    <tr style=\"text-align: right;\">\n",
       "      <th></th>\n",
       "      <th>2</th>\n",
       "      <th>76</th>\n",
       "      <th>303</th>\n",
       "    </tr>\n",
       "  </thead>\n",
       "  <tbody>\n",
       "    <tr>\n",
       "      <th>0</th>\n",
       "      <td>1</td>\n",
       "      <td>1</td>\n",
       "      <td>1</td>\n",
       "    </tr>\n",
       "  </tbody>\n",
       "</table>\n",
       "</div>"
      ],
      "text/plain": [
       "   2    76   303\n",
       "0    1    1    1"
      ]
     },
     "metadata": {},
     "output_type": "display_data"
    },
    {
     "name": "stdout",
     "output_type": "stream",
     "text": [
      "\n",
      "Threshold: 15\n",
      "Number of Nodes: 324\n",
      "Length of Connected Components\n"
     ]
    },
    {
     "data": {
      "text/html": [
       "<div>\n",
       "<style scoped>\n",
       "    .dataframe tbody tr th:only-of-type {\n",
       "        vertical-align: middle;\n",
       "    }\n",
       "\n",
       "    .dataframe tbody tr th {\n",
       "        vertical-align: top;\n",
       "    }\n",
       "\n",
       "    .dataframe thead th {\n",
       "        text-align: right;\n",
       "    }\n",
       "</style>\n",
       "<table border=\"1\" class=\"dataframe\">\n",
       "  <thead>\n",
       "    <tr style=\"text-align: right;\">\n",
       "      <th></th>\n",
       "      <th>2</th>\n",
       "      <th>76</th>\n",
       "      <th>246</th>\n",
       "    </tr>\n",
       "  </thead>\n",
       "  <tbody>\n",
       "    <tr>\n",
       "      <th>0</th>\n",
       "      <td>1</td>\n",
       "      <td>1</td>\n",
       "      <td>1</td>\n",
       "    </tr>\n",
       "  </tbody>\n",
       "</table>\n",
       "</div>"
      ],
      "text/plain": [
       "   2    76   246\n",
       "0    1    1    1"
      ]
     },
     "metadata": {},
     "output_type": "display_data"
    },
    {
     "name": "stdout",
     "output_type": "stream",
     "text": [
      "\n",
      "Threshold: 16\n",
      "Number of Nodes: 251\n",
      "Length of Connected Components\n"
     ]
    },
    {
     "data": {
      "text/html": [
       "<div>\n",
       "<style scoped>\n",
       "    .dataframe tbody tr th:only-of-type {\n",
       "        vertical-align: middle;\n",
       "    }\n",
       "\n",
       "    .dataframe tbody tr th {\n",
       "        vertical-align: top;\n",
       "    }\n",
       "\n",
       "    .dataframe thead th {\n",
       "        text-align: right;\n",
       "    }\n",
       "</style>\n",
       "<table border=\"1\" class=\"dataframe\">\n",
       "  <thead>\n",
       "    <tr style=\"text-align: right;\">\n",
       "      <th></th>\n",
       "      <th>76</th>\n",
       "      <th>175</th>\n",
       "    </tr>\n",
       "  </thead>\n",
       "  <tbody>\n",
       "    <tr>\n",
       "      <th>0</th>\n",
       "      <td>1</td>\n",
       "      <td>1</td>\n",
       "    </tr>\n",
       "  </tbody>\n",
       "</table>\n",
       "</div>"
      ],
      "text/plain": [
       "   76   175\n",
       "0    1    1"
      ]
     },
     "metadata": {},
     "output_type": "display_data"
    },
    {
     "name": "stdout",
     "output_type": "stream",
     "text": [
      "\n"
     ]
    }
   ],
   "source": [
    "islands_P = islandMethod(P)\n",
    "\n",
    "for i in islands_P:\n",
    "    print('Threshold: ' + str(i[0]))\n",
    "    print('Number of Nodes: ' + str(len(i[1])))\n",
    "    print('Length of Connected Components')\n",
    "    display(pd.DataFrame(pd.Series([len(c) for c in sorted(nx.connected_components(i[1]), key=len)]).value_counts().sort_index()).T)\n",
    "    print()"
   ]
  },
  {
   "cell_type": "markdown",
   "id": "640cbd5b",
   "metadata": {},
   "source": [
    "Before visualizing the graph, we can look at the summary statistics to get an idea of how these companies rank."
   ]
  },
  {
   "cell_type": "code",
   "execution_count": 25,
   "id": "5b31f437",
   "metadata": {
    "scrolled": false
   },
   "outputs": [
    {
     "data": {
      "text/html": [
       "<div>\n",
       "<style scoped>\n",
       "    .dataframe tbody tr th:only-of-type {\n",
       "        vertical-align: middle;\n",
       "    }\n",
       "\n",
       "    .dataframe tbody tr th {\n",
       "        vertical-align: top;\n",
       "    }\n",
       "\n",
       "    .dataframe thead th {\n",
       "        text-align: right;\n",
       "    }\n",
       "</style>\n",
       "<table border=\"1\" class=\"dataframe\">\n",
       "  <thead>\n",
       "    <tr style=\"text-align: right;\">\n",
       "      <th></th>\n",
       "      <th>degree</th>\n",
       "      <th>degree_centrality</th>\n",
       "      <th>eigenvector</th>\n",
       "      <th>closeness</th>\n",
       "      <th>betweenness</th>\n",
       "    </tr>\n",
       "  </thead>\n",
       "  <tbody>\n",
       "    <tr>\n",
       "      <th>မြန်မာမင်းဒွန်းဂါးမင့်မင်နျူဖက်ချားရင်းကုမ္ပဏီလီမိတက်</th>\n",
       "      <td>67</td>\n",
       "      <td>0.705263</td>\n",
       "      <td>0.523930</td>\n",
       "      <td>0.719408</td>\n",
       "      <td>0.417344</td>\n",
       "    </tr>\n",
       "    <tr>\n",
       "      <th>ထရိုင်းဒင့်မြန်မာဂျင်နရယ်ထရိတ်ဒင်းကုမ္ပဏီလီမိတက်</th>\n",
       "      <td>61</td>\n",
       "      <td>0.642105</td>\n",
       "      <td>0.490881</td>\n",
       "      <td>0.677090</td>\n",
       "      <td>0.335965</td>\n",
       "    </tr>\n",
       "    <tr>\n",
       "      <th>စူပါဂါးမင့်န်ကုမ္ပဏီလီမိတက်</th>\n",
       "      <td>9</td>\n",
       "      <td>0.094737</td>\n",
       "      <td>0.111693</td>\n",
       "      <td>0.416043</td>\n",
       "      <td>0.003602</td>\n",
       "    </tr>\n",
       "    <tr>\n",
       "      <th>ခရစ်စတယ်လ်ဂါးမင့်အင်န်နစ်တင်းအင်ဒက်စ်တရီကုမ္ပဏီလီမိတက် krystal garment  knitting industry co</th>\n",
       "      <td>4</td>\n",
       "      <td>0.042105</td>\n",
       "      <td>0.102585</td>\n",
       "      <td>0.437109</td>\n",
       "      <td>0.017885</td>\n",
       "    </tr>\n",
       "    <tr>\n",
       "      <th>ရတနာနစ်တ်အင်န်ဂါးမန့်တ်မန်နူဖက်ချားရင်းကုမ္ပဏီလီမိတက် yandana knit and garment manufacturing</th>\n",
       "      <td>4</td>\n",
       "      <td>0.042105</td>\n",
       "      <td>0.102585</td>\n",
       "      <td>0.437109</td>\n",
       "      <td>0.017885</td>\n",
       "    </tr>\n",
       "    <tr>\n",
       "      <th>မြန်မာမင်းဒွန်းဂါးမင့်မင်နျူဖက်ချားရင်း ကုမ္ပဏီလီမိတက်</th>\n",
       "      <td>3</td>\n",
       "      <td>0.031579</td>\n",
       "      <td>0.100925</td>\n",
       "      <td>0.426316</td>\n",
       "      <td>0.000416</td>\n",
       "    </tr>\n",
       "    <tr>\n",
       "      <th>super ace international co  စူပါအေ့စ်အင်တာနေရှင်နယ်ကုမ္ပဏီလီမိတက်</th>\n",
       "      <td>3</td>\n",
       "      <td>0.031579</td>\n",
       "      <td>0.100925</td>\n",
       "      <td>0.426316</td>\n",
       "      <td>0.000416</td>\n",
       "    </tr>\n",
       "    <tr>\n",
       "      <th>ငွေပင်လယ်လှိုင်းတွန့်စက္ကူဘူးထုတ်လုပ်ရေးကုမ္ပဏီလီမိတက်silver sea paper carton box production co</th>\n",
       "      <td>3</td>\n",
       "      <td>0.031579</td>\n",
       "      <td>0.100925</td>\n",
       "      <td>0.426316</td>\n",
       "      <td>0.000416</td>\n",
       "    </tr>\n",
       "    <tr>\n",
       "      <th>အပိုလိုဂါးမင့်ကုမ္ပဏီလီမိတက်</th>\n",
       "      <td>3</td>\n",
       "      <td>0.031579</td>\n",
       "      <td>0.018530</td>\n",
       "      <td>0.295142</td>\n",
       "      <td>0.017973</td>\n",
       "    </tr>\n",
       "    <tr>\n",
       "      <th>ပစိဖိတ်ဂါးမင့် မင်နယူဖတ်ချားရင်း ကုမ္ပဏီ လီမိတက် pacific garment manufacturing co</th>\n",
       "      <td>3</td>\n",
       "      <td>0.031579</td>\n",
       "      <td>0.100925</td>\n",
       "      <td>0.426316</td>\n",
       "      <td>0.000416</td>\n",
       "    </tr>\n",
       "  </tbody>\n",
       "</table>\n",
       "</div>"
      ],
      "text/plain": [
       "                                                    degree  degree_centrality  \\\n",
       "မြန်မာမင်းဒွန်းဂါးမင့်မင်နျူဖက်ချားရင်းကုမ္ပဏီလ...      67           0.705263   \n",
       "ထရိုင်းဒင့်မြန်မာဂျင်နရယ်ထရိတ်ဒင်းကုမ္ပဏီလီမိတက်        61           0.642105   \n",
       "စူပါဂါးမင့်န်ကုမ္ပဏီလီမိတက်                              9           0.094737   \n",
       "ခရစ်စတယ်လ်ဂါးမင့်အင်န်နစ်တင်းအင်ဒက်စ်တရီကုမ္ပဏီ...       4           0.042105   \n",
       "ရတနာနစ်တ်အင်န်ဂါးမန့်တ်မန်နူဖက်ချားရင်းကုမ္ပဏီလ...       4           0.042105   \n",
       "မြန်မာမင်းဒွန်းဂါးမင့်မင်နျူဖက်ချားရင်း ကုမ္ပဏီ...       3           0.031579   \n",
       "super ace international co  စူပါအေ့စ်အင်တာနေရှင...       3           0.031579   \n",
       "ငွေပင်လယ်လှိုင်းတွန့်စက္ကူဘူးထုတ်လုပ်ရေးကုမ္ပဏီ...       3           0.031579   \n",
       "အပိုလိုဂါးမင့်ကုမ္ပဏီလီမိတက်                             3           0.031579   \n",
       "ပစိဖိတ်ဂါးမင့် မင်နယူဖတ်ချားရင်း ကုမ္ပဏီ လီမိတက...       3           0.031579   \n",
       "\n",
       "                                                    eigenvector  closeness  \\\n",
       "မြန်မာမင်းဒွန်းဂါးမင့်မင်နျူဖက်ချားရင်းကုမ္ပဏီလ...     0.523930   0.719408   \n",
       "ထရိုင်းဒင့်မြန်မာဂျင်နရယ်ထရိတ်ဒင်းကုမ္ပဏီလီမိတက်       0.490881   0.677090   \n",
       "စူပါဂါးမင့်န်ကုမ္ပဏီလီမိတက်                            0.111693   0.416043   \n",
       "ခရစ်စတယ်လ်ဂါးမင့်အင်န်နစ်တင်းအင်ဒက်စ်တရီကုမ္ပဏီ...     0.102585   0.437109   \n",
       "ရတနာနစ်တ်အင်န်ဂါးမန့်တ်မန်နူဖက်ချားရင်းကုမ္ပဏီလ...     0.102585   0.437109   \n",
       "မြန်မာမင်းဒွန်းဂါးမင့်မင်နျူဖက်ချားရင်း ကုမ္ပဏီ...     0.100925   0.426316   \n",
       "super ace international co  စူပါအေ့စ်အင်တာနေရှင...     0.100925   0.426316   \n",
       "ငွေပင်လယ်လှိုင်းတွန့်စက္ကူဘူးထုတ်လုပ်ရေးကုမ္ပဏီ...     0.100925   0.426316   \n",
       "အပိုလိုဂါးမင့်ကုမ္ပဏီလီမိတက်                           0.018530   0.295142   \n",
       "ပစိဖိတ်ဂါးမင့် မင်နယူဖတ်ချားရင်း ကုမ္ပဏီ လီမိတက...     0.100925   0.426316   \n",
       "\n",
       "                                                    betweenness  \n",
       "မြန်မာမင်းဒွန်းဂါးမင့်မင်နျူဖက်ချားရင်းကုမ္ပဏီလ...     0.417344  \n",
       "ထရိုင်းဒင့်မြန်မာဂျင်နရယ်ထရိတ်ဒင်းကုမ္ပဏီလီမိတက်       0.335965  \n",
       "စူပါဂါးမင့်န်ကုမ္ပဏီလီမိတက်                            0.003602  \n",
       "ခရစ်စတယ်လ်ဂါးမင့်အင်န်နစ်တင်းအင်ဒက်စ်တရီကုမ္ပဏီ...     0.017885  \n",
       "ရတနာနစ်တ်အင်န်ဂါးမန့်တ်မန်နူဖက်ချားရင်းကုမ္ပဏီလ...     0.017885  \n",
       "မြန်မာမင်းဒွန်းဂါးမင့်မင်နျူဖက်ချားရင်း ကုမ္ပဏီ...     0.000416  \n",
       "super ace international co  စူပါအေ့စ်အင်တာနေရှင...     0.000416  \n",
       "ငွေပင်လယ်လှိုင်းတွန့်စက္ကူဘူးထုတ်လုပ်ရေးကုမ္ပဏီ...     0.000416  \n",
       "အပိုလိုဂါးမင့်ကုမ္ပဏီလီမိတက်                           0.017973  \n",
       "ပစိဖိတ်ဂါးမင့် မင်နယူဖတ်ချားရင်း ကုမ္ပဏီ လီမိတက...     0.000416  "
      ]
     },
     "execution_count": 25,
     "metadata": {},
     "output_type": "execute_result"
    }
   ],
   "source": [
    "# Choose an island and remove garbage names\n",
    "island = islands_P[15][1]\n",
    "single_char_names = list(island.nodes())[:79]\n",
    "island.remove_nodes_from(single_char_names)\n",
    "\n",
    "# Degree, Eigenvector Centrality and Betweenness are weighted by the total\n",
    "# number of shared contacts.  DEGREE_CENTRALITY and CLOSENESS are not weighted\n",
    "summaries = pd.DataFrame(dict(\n",
    "    degree = dict(island.degree(weight = 'weight')),\n",
    "    degree_centrality = nx.degree_centrality(island),\n",
    "    eigenvector = nx.eigenvector_centrality_numpy(island, weight = 'weight'),\n",
    "    closeness = nx.closeness_centrality(island),\n",
    "    betweenness = nx.betweenness_centrality(island, weight = 'weight')))\n",
    "\n",
    "summaries = summaries.sort_values(by = 'degree', ascending = False)\n",
    "summaries[:10]"
   ]
  },
  {
   "cell_type": "code",
   "execution_count": 26,
   "id": "0580ed54",
   "metadata": {
    "scrolled": true
   },
   "outputs": [],
   "source": [
    "net = Network(notebook = True)\n",
    "net.from_nx(island)\n",
    "net.width = '2000px'\n",
    "net.height = '1000px'\n",
    "net.repulsion(node_distance=100, central_gravity=0.01,\n",
    "              spring_length=300, spring_strength=0.01,\n",
    "              damping=0.09)\n",
    "net.save_graph(\"Highly-Connected_Companies.html\")"
   ]
  },
  {
   "cell_type": "markdown",
   "id": "ad7841c1",
   "metadata": {},
   "source": [
    "# Conclusions\n",
    "---\n",
    "\n",
    "We have managed to clean up an extremely large amount of very messy data from 7 separate sources.  We have created a graph that connects a hundred thousand companies by their registered officers, investors, and landowners.  In the end, we are able to find, through basic network analysis methods, the most connected companies, who are very likely drawing the greatest amount of foreign investment to Myanmar.\n",
    "\n",
    "We can draw no firm conclusions about how connected these companies are to the junta.  However, this is a fantastic place to begin further research."
   ]
  }
 ],
 "metadata": {
  "kernelspec": {
   "display_name": "Python 3 (ipykernel)",
   "language": "python",
   "name": "python3"
  },
  "language_info": {
   "codemirror_mode": {
    "name": "ipython",
    "version": 3
   },
   "file_extension": ".py",
   "mimetype": "text/x-python",
   "name": "python",
   "nbconvert_exporter": "python",
   "pygments_lexer": "ipython3",
   "version": "3.9.6"
  }
 },
 "nbformat": 4,
 "nbformat_minor": 5
}
