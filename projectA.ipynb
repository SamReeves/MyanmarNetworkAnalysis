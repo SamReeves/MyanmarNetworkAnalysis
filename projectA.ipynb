{
 "cells": [
  {
   "cell_type": "markdown",
   "id": "06fe11d9",
   "metadata": {},
   "source": [
    "# DATA620 Final Project A\n",
    "## Network Analysis\n",
    "\n",
    "# Project Description\n",
    "***\n",
    "\n",
    "We would like to find businesses (or ideally people) who are influential in drawing foreign and domestic investment in Myanmar.  Through basic network analysis techniques, we hope to find a clique of people or companies with common investment sources or common activities.\n",
    "\n",
    "# Data Description\n",
    "***\n",
    "\n",
    "This data was scraped and realeased anonymously from official government sources in two leaks called Myanmar Financials and Myanmar Investments.  The former is incorporation documents for ~125k companies, and the latter is information from investment proposals for about 10k companies.\n",
    "\n",
    "# Known Challenges\n",
    "***\n",
    "\n",
    "1. About 1/4 of the companies in Myanmar Financials paid somebody to approve their incorporation documents without addresses or names... We can remove companies with no listed officers.\n",
    "\n",
    "2. People in Myanmar are named for astrological information pertaining to their birth.  There is no family name, and many people have the same names.  We also cannot do anything about this.\n",
    "\n",
    "3. A small number of names are given in Burmese script, which is included in UTF-8, but is unreadable to our team.  We can leave the script as-is, and remove punctuation.\n",
    "\n",
    "4. Most companies did not apply for investment approval.  We will focus only on companies with investment records.\n",
    "\n",
    "# Method\n",
    "***\n",
    "\n",
    "1. Import and clean the data\n",
    "2. Create an edge list:\n",
    "> |Company Name |People\n",
    "> --- | --- \n",
    "> |companyNameInMyanmar |officers, landOwner, nameOfInvestor\n",
    "3. Project bipartite graph, view statistics\n",
    "4. Trim edges, weighted by number of names per company\n",
    "5. Visualize"
   ]
  },
  {
   "cell_type": "code",
   "execution_count": 1,
   "id": "339341fd",
   "metadata": {},
   "outputs": [],
   "source": [
    "import os\n",
    "import scipy\n",
    "from pathlib import *\n",
    "import json\n",
    "import pandas as pd\n",
    "import networkx as nx\n",
    "from networkx.algorithms import bipartite\n",
    "import matplotlib.pyplot as plt\n",
    "from bs4 import BeautifulSoup\n",
    "import re\n",
    "import string\n",
    "from collections import defaultdict\n",
    "from itertools import combinations"
   ]
  },
  {
   "cell_type": "code",
   "execution_count": 2,
   "id": "d6cac666",
   "metadata": {},
   "outputs": [],
   "source": [
    "# Company incorporation documents\n",
    "com_dir = Path('/home/s/fpa/data/company_info')\n",
    "# Investment proposals and information about real projects\n",
    "inv_dir = Path('/home/s/fpa/data/investment_info')"
   ]
  },
  {
   "cell_type": "markdown",
   "id": "24407881",
   "metadata": {},
   "source": [
    "# Helper Functions\n",
    "***\n",
    "#### pathToList()\n",
    "- Takes a Path object for a directory full of JSON files\n",
    "- Returns a list containing a dict for each file read in\n",
    "\n",
    "#### companyInfo()\n",
    "- Takes a list of dicts\n",
    "- Extracts copmany name and names of officers\n",
    "- Returns a DataFrame with this information\n",
    "\n",
    "#### investmentInfo()\n",
    "- Takes a list of lists of dicts\n",
    "- Converts dicts to DataFrames\n",
    "- Returns list of DataFrames\n",
    "\n",
    "#### cleanDF()\n",
    "- Takes a DataFrame\n",
    "- Converts all letters to lowercase\n",
    "- Substitutes ltd with limited\n",
    "- Removes all punctuation\n",
    "\n",
    "#### defineEdges()\n",
    "- Takes company information and a list of other DataFrames\n",
    "- Creates dictionary with key company name and value list of people\n",
    "- Adds investors to edge list\n",
    "- Returns edge list dictionary\n",
    "\n",
    "#### expandEdges()\n",
    "- Takes a dictionary of company nodes with lists of connected people\n",
    "- Returns a list of edges with only two nodes on each line\n",
    "\n",
    "#### trimEdges()\n",
    "\n",
    "#### islandMethod()"
   ]
  },
  {
   "cell_type": "code",
   "execution_count": 3,
   "id": "c6317ddc",
   "metadata": {},
   "outputs": [],
   "source": [
    "def pathToList(path_obj):\n",
    "    file_list = []\n",
    "    for file_path in path_obj.iterdir():\n",
    "        data = json.loads(file_path.read_bytes())\n",
    "        file_list.append(data)\n",
    "    return(file_list)\n",
    "\n",
    "def companyInfo(com_list):\n",
    "    info_list = []\n",
    "    # Iterate over all companies in the list\n",
    "    for i in range(len(com_list)):\n",
    "        info = {}\n",
    "        # Extract Company Name to \"companyNameInMyanmar\"\n",
    "        info['companyNameInMyanmar'] = com_list[i]['Corp']['CompanyName']\n",
    "        # Extract Officer names\n",
    "        for b in range(len(com_list[i]['Officers'])):\n",
    "            info['officer' + str(b)] = com_list[i]['Officers'][b]['FullNameNormalized']\n",
    "        # Convert to DataFrame\n",
    "        info_list.append(info)\n",
    "    df = pd.DataFrame.from_dict(info_list, orient = 'columns')\n",
    "    return(df)\n",
    "\n",
    "def investmentInfo(inv_list):\n",
    "    investments = []\n",
    "    # Extract data from investment documents\n",
    "    for i in range(len(inv_list)):\n",
    "        d = pd.DataFrame.from_dict(\n",
    "            [x for x in inv_list[i]['data']], orient = 'columns')\n",
    "        investments.append(d)\n",
    "    return(investments)\n",
    "\n",
    "def cleanDF(df):\n",
    "    # Convert to lowercase\n",
    "    df = df.applymap(str)\n",
    "    df = df.applymap(lambda s:s.lower())\n",
    "    # Remove some useless words\n",
    "    useless = set(('ltd', 'limited', 'company',))\n",
    "    for word in useless:\n",
    "        df = df.applymap(lambda s:s.replace(word, ''))\n",
    "    # Remove punctuation\n",
    "    df = df.applymap(lambda s:s.translate(str.maketrans('', '', string.punctuation)))         \n",
    "    # Remove companies with extremely short names\n",
    "    df = df[df.companyNameInMyanmar != 'a']\n",
    "    return(df)\n",
    "\n",
    "def defineEdges(companies, investments):\n",
    "    edges = {}\n",
    "    # add all companies to edge list\n",
    "    for i in range(len(companies)):\n",
    "        co = companies.iloc[i,0]\n",
    "        edges[co] = []\n",
    "\n",
    "        # add officers as connections\n",
    "        for j in range(1,68):\n",
    "            officer = companies.iloc[i,j]\n",
    "            if officer != 'nan':\n",
    "                edges[co].append(officer)\n",
    "            else:\n",
    "                break\n",
    "    for doc in investments:\n",
    "        doc = cleanDF(doc)\n",
    "        for i in range(len(doc)):\n",
    "            co = doc.iloc[i]['companyNameInMyanmar']\n",
    "            inv = doc.iloc[i]['nameOfInvestor']\n",
    "            # add remaining companies to edge list\n",
    "            if co not in edges.keys():\n",
    "                edges[co] = []\n",
    "            # add investors as connections\n",
    "            if inv not in edges[co]:\n",
    "                edges[co].append(str(inv).replace(' ', ''))\n",
    "    return(edges)\n",
    "\n",
    "def expandEdges(edges):\n",
    "    expanded_edges = []\n",
    "    for company in edges:\n",
    "        for person in company:\n",
    "            edge = (company, person)\n",
    "            expanded_edges.append(edge)\n",
    "    return(expanded_edges)\n",
    "\n",
    "def trimEdges(G, weight = 1):\n",
    "    G2 = nx.Graph()\n",
    "    edata = nx.to_pandas_edgelist(G)\n",
    "    f = edata['source']\n",
    "    to = edata['target']\n",
    "    \n",
    "    for f, to, edata in G.edges(data = True):\n",
    "        if edata['weight'] > weight:\n",
    "            G2.add_edge(f, to)\n",
    "    return G2\n",
    "\n",
    "def islandMethod(g, iterations = 20):\n",
    "    weights = [edata['weight'] for f, to, edata in g.edges(data = True)]\n",
    "    mn = 1\n",
    "    mx = iterations\n",
    "    step = 1\n",
    "    return([[threshold, trimEdges(g, threshold)]\n",
    "           for threshold in range(mn, mx, step)])"
   ]
  },
  {
   "cell_type": "markdown",
   "id": "cdbc4b20",
   "metadata": {},
   "source": [
    "# Preprocessing\n",
    "***"
   ]
  },
  {
   "cell_type": "code",
   "execution_count": 4,
   "id": "c22375ea",
   "metadata": {},
   "outputs": [],
   "source": [
    "companies = cleanDF(companyInfo(pathToList(com_dir)))\n",
    "# Drop rows with no names\n",
    "companies = companies[companies.officer0 != 'nan']"
   ]
  },
  {
   "cell_type": "code",
   "execution_count": 5,
   "id": "9de325ed",
   "metadata": {},
   "outputs": [],
   "source": [
    "investments = investmentInfo(pathToList(inv_dir))\n",
    "edges = defineEdges(companies, investments)\n",
    "expanded_edges = expandEdges(edges)"
   ]
  },
  {
   "cell_type": "code",
   "execution_count": 6,
   "id": "42c0d13b",
   "metadata": {},
   "outputs": [],
   "source": [
    "reversed_edges = defaultdict(list)\n",
    "for key, value in edges.items():\n",
    "    for item in value:\n",
    "        reversed_edges[item].append(key)"
   ]
  },
  {
   "cell_type": "markdown",
   "id": "5597e45d",
   "metadata": {},
   "source": [
    "# Network Analysis\n",
    "***"
   ]
  },
  {
   "cell_type": "code",
   "execution_count": 7,
   "id": "6999c2de",
   "metadata": {},
   "outputs": [
    {
     "data": {
      "text/plain": [
       "218065"
      ]
     },
     "execution_count": 7,
     "metadata": {},
     "output_type": "execute_result"
    }
   ],
   "source": [
    "G = nx.Graph()\n",
    "\n",
    "company_nodes = edges.keys()\n",
    "people_nodes = reversed_edges.keys()\n",
    "\n",
    "G.add_nodes_from(company_nodes, bipartite = 'Companies')\n",
    "G.add_nodes_from(people_nodes, bipartite = 'People')\n",
    "G.add_edges_from(expanded_edges)\n",
    "\n",
    "G.number_of_nodes()"
   ]
  },
  {
   "cell_type": "code",
   "execution_count": 8,
   "id": "af57d9a5",
   "metadata": {},
   "outputs": [
    {
     "data": {
      "text/plain": [
       "1036600"
      ]
     },
     "execution_count": 8,
     "metadata": {},
     "output_type": "execute_result"
    }
   ],
   "source": [
    "G.number_of_edges()"
   ]
  },
  {
   "cell_type": "code",
   "execution_count": 9,
   "id": "f6a61a75",
   "metadata": {
    "scrolled": false
   },
   "outputs": [
    {
     "data": {
      "text/plain": [
       "88341"
      ]
     },
     "execution_count": 9,
     "metadata": {},
     "output_type": "execute_result"
    }
   ],
   "source": [
    "P = bipartite.weighted_projected_graph(G, people_nodes)\n",
    "P.number_of_edges()"
   ]
  },
  {
   "cell_type": "code",
   "execution_count": 10,
   "id": "c7ab4dd2",
   "metadata": {
    "scrolled": false
   },
   "outputs": [
    {
     "name": "stdout",
     "output_type": "stream",
     "text": [
      "Threshold: 1\n",
      "Number of Nodes: 61596\n",
      "Length of Connected Components\n"
     ]
    },
    {
     "data": {
      "text/html": [
       "<div>\n",
       "<style scoped>\n",
       "    .dataframe tbody tr th:only-of-type {\n",
       "        vertical-align: middle;\n",
       "    }\n",
       "\n",
       "    .dataframe tbody tr th {\n",
       "        vertical-align: top;\n",
       "    }\n",
       "\n",
       "    .dataframe thead th {\n",
       "        text-align: right;\n",
       "    }\n",
       "</style>\n",
       "<table border=\"1\" class=\"dataframe\">\n",
       "  <thead>\n",
       "    <tr style=\"text-align: right;\">\n",
       "      <th></th>\n",
       "      <th>96</th>\n",
       "      <th>61500</th>\n",
       "    </tr>\n",
       "  </thead>\n",
       "  <tbody>\n",
       "    <tr>\n",
       "      <th>0</th>\n",
       "      <td>1</td>\n",
       "      <td>1</td>\n",
       "    </tr>\n",
       "  </tbody>\n",
       "</table>\n",
       "</div>"
      ],
      "text/plain": [
       "   96     61500\n",
       "0      1      1"
      ]
     },
     "metadata": {},
     "output_type": "display_data"
    },
    {
     "name": "stdout",
     "output_type": "stream",
     "text": [
      "\n",
      "Threshold: 2\n",
      "Number of Nodes: 27726\n",
      "Length of Connected Components\n"
     ]
    },
    {
     "data": {
      "text/html": [
       "<div>\n",
       "<style scoped>\n",
       "    .dataframe tbody tr th:only-of-type {\n",
       "        vertical-align: middle;\n",
       "    }\n",
       "\n",
       "    .dataframe tbody tr th {\n",
       "        vertical-align: top;\n",
       "    }\n",
       "\n",
       "    .dataframe thead th {\n",
       "        text-align: right;\n",
       "    }\n",
       "</style>\n",
       "<table border=\"1\" class=\"dataframe\">\n",
       "  <thead>\n",
       "    <tr style=\"text-align: right;\">\n",
       "      <th></th>\n",
       "      <th>90</th>\n",
       "      <th>27636</th>\n",
       "    </tr>\n",
       "  </thead>\n",
       "  <tbody>\n",
       "    <tr>\n",
       "      <th>0</th>\n",
       "      <td>1</td>\n",
       "      <td>1</td>\n",
       "    </tr>\n",
       "  </tbody>\n",
       "</table>\n",
       "</div>"
      ],
      "text/plain": [
       "   90     27636\n",
       "0      1      1"
      ]
     },
     "metadata": {},
     "output_type": "display_data"
    },
    {
     "name": "stdout",
     "output_type": "stream",
     "text": [
      "\n",
      "Threshold: 3\n",
      "Number of Nodes: 448\n",
      "Length of Connected Components\n"
     ]
    },
    {
     "data": {
      "text/html": [
       "<div>\n",
       "<style scoped>\n",
       "    .dataframe tbody tr th:only-of-type {\n",
       "        vertical-align: middle;\n",
       "    }\n",
       "\n",
       "    .dataframe tbody tr th {\n",
       "        vertical-align: top;\n",
       "    }\n",
       "\n",
       "    .dataframe thead th {\n",
       "        text-align: right;\n",
       "    }\n",
       "</style>\n",
       "<table border=\"1\" class=\"dataframe\">\n",
       "  <thead>\n",
       "    <tr style=\"text-align: right;\">\n",
       "      <th></th>\n",
       "      <th>86</th>\n",
       "      <th>362</th>\n",
       "    </tr>\n",
       "  </thead>\n",
       "  <tbody>\n",
       "    <tr>\n",
       "      <th>0</th>\n",
       "      <td>1</td>\n",
       "      <td>1</td>\n",
       "    </tr>\n",
       "  </tbody>\n",
       "</table>\n",
       "</div>"
      ],
      "text/plain": [
       "   86   362\n",
       "0    1    1"
      ]
     },
     "metadata": {},
     "output_type": "display_data"
    },
    {
     "name": "stdout",
     "output_type": "stream",
     "text": [
      "\n",
      "Threshold: 4\n",
      "Number of Nodes: 446\n",
      "Length of Connected Components\n"
     ]
    },
    {
     "data": {
      "text/html": [
       "<div>\n",
       "<style scoped>\n",
       "    .dataframe tbody tr th:only-of-type {\n",
       "        vertical-align: middle;\n",
       "    }\n",
       "\n",
       "    .dataframe tbody tr th {\n",
       "        vertical-align: top;\n",
       "    }\n",
       "\n",
       "    .dataframe thead th {\n",
       "        text-align: right;\n",
       "    }\n",
       "</style>\n",
       "<table border=\"1\" class=\"dataframe\">\n",
       "  <thead>\n",
       "    <tr style=\"text-align: right;\">\n",
       "      <th></th>\n",
       "      <th>84</th>\n",
       "      <th>362</th>\n",
       "    </tr>\n",
       "  </thead>\n",
       "  <tbody>\n",
       "    <tr>\n",
       "      <th>0</th>\n",
       "      <td>1</td>\n",
       "      <td>1</td>\n",
       "    </tr>\n",
       "  </tbody>\n",
       "</table>\n",
       "</div>"
      ],
      "text/plain": [
       "   84   362\n",
       "0    1    1"
      ]
     },
     "metadata": {},
     "output_type": "display_data"
    },
    {
     "name": "stdout",
     "output_type": "stream",
     "text": [
      "\n",
      "Threshold: 5\n",
      "Number of Nodes: 445\n",
      "Length of Connected Components\n"
     ]
    },
    {
     "data": {
      "text/html": [
       "<div>\n",
       "<style scoped>\n",
       "    .dataframe tbody tr th:only-of-type {\n",
       "        vertical-align: middle;\n",
       "    }\n",
       "\n",
       "    .dataframe tbody tr th {\n",
       "        vertical-align: top;\n",
       "    }\n",
       "\n",
       "    .dataframe thead th {\n",
       "        text-align: right;\n",
       "    }\n",
       "</style>\n",
       "<table border=\"1\" class=\"dataframe\">\n",
       "  <thead>\n",
       "    <tr style=\"text-align: right;\">\n",
       "      <th></th>\n",
       "      <th>83</th>\n",
       "      <th>362</th>\n",
       "    </tr>\n",
       "  </thead>\n",
       "  <tbody>\n",
       "    <tr>\n",
       "      <th>0</th>\n",
       "      <td>1</td>\n",
       "      <td>1</td>\n",
       "    </tr>\n",
       "  </tbody>\n",
       "</table>\n",
       "</div>"
      ],
      "text/plain": [
       "   83   362\n",
       "0    1    1"
      ]
     },
     "metadata": {},
     "output_type": "display_data"
    },
    {
     "name": "stdout",
     "output_type": "stream",
     "text": [
      "\n",
      "Threshold: 6\n",
      "Number of Nodes: 445\n",
      "Length of Connected Components\n"
     ]
    },
    {
     "data": {
      "text/html": [
       "<div>\n",
       "<style scoped>\n",
       "    .dataframe tbody tr th:only-of-type {\n",
       "        vertical-align: middle;\n",
       "    }\n",
       "\n",
       "    .dataframe tbody tr th {\n",
       "        vertical-align: top;\n",
       "    }\n",
       "\n",
       "    .dataframe thead th {\n",
       "        text-align: right;\n",
       "    }\n",
       "</style>\n",
       "<table border=\"1\" class=\"dataframe\">\n",
       "  <thead>\n",
       "    <tr style=\"text-align: right;\">\n",
       "      <th></th>\n",
       "      <th>83</th>\n",
       "      <th>362</th>\n",
       "    </tr>\n",
       "  </thead>\n",
       "  <tbody>\n",
       "    <tr>\n",
       "      <th>0</th>\n",
       "      <td>1</td>\n",
       "      <td>1</td>\n",
       "    </tr>\n",
       "  </tbody>\n",
       "</table>\n",
       "</div>"
      ],
      "text/plain": [
       "   83   362\n",
       "0    1    1"
      ]
     },
     "metadata": {},
     "output_type": "display_data"
    },
    {
     "name": "stdout",
     "output_type": "stream",
     "text": [
      "\n",
      "Threshold: 7\n",
      "Number of Nodes: 442\n",
      "Length of Connected Components\n"
     ]
    },
    {
     "data": {
      "text/html": [
       "<div>\n",
       "<style scoped>\n",
       "    .dataframe tbody tr th:only-of-type {\n",
       "        vertical-align: middle;\n",
       "    }\n",
       "\n",
       "    .dataframe tbody tr th {\n",
       "        vertical-align: top;\n",
       "    }\n",
       "\n",
       "    .dataframe thead th {\n",
       "        text-align: right;\n",
       "    }\n",
       "</style>\n",
       "<table border=\"1\" class=\"dataframe\">\n",
       "  <thead>\n",
       "    <tr style=\"text-align: right;\">\n",
       "      <th></th>\n",
       "      <th>80</th>\n",
       "      <th>362</th>\n",
       "    </tr>\n",
       "  </thead>\n",
       "  <tbody>\n",
       "    <tr>\n",
       "      <th>0</th>\n",
       "      <td>1</td>\n",
       "      <td>1</td>\n",
       "    </tr>\n",
       "  </tbody>\n",
       "</table>\n",
       "</div>"
      ],
      "text/plain": [
       "   80   362\n",
       "0    1    1"
      ]
     },
     "metadata": {},
     "output_type": "display_data"
    },
    {
     "name": "stdout",
     "output_type": "stream",
     "text": [
      "\n",
      "Threshold: 8\n",
      "Number of Nodes: 442\n",
      "Length of Connected Components\n"
     ]
    },
    {
     "data": {
      "text/html": [
       "<div>\n",
       "<style scoped>\n",
       "    .dataframe tbody tr th:only-of-type {\n",
       "        vertical-align: middle;\n",
       "    }\n",
       "\n",
       "    .dataframe tbody tr th {\n",
       "        vertical-align: top;\n",
       "    }\n",
       "\n",
       "    .dataframe thead th {\n",
       "        text-align: right;\n",
       "    }\n",
       "</style>\n",
       "<table border=\"1\" class=\"dataframe\">\n",
       "  <thead>\n",
       "    <tr style=\"text-align: right;\">\n",
       "      <th></th>\n",
       "      <th>80</th>\n",
       "      <th>362</th>\n",
       "    </tr>\n",
       "  </thead>\n",
       "  <tbody>\n",
       "    <tr>\n",
       "      <th>0</th>\n",
       "      <td>1</td>\n",
       "      <td>1</td>\n",
       "    </tr>\n",
       "  </tbody>\n",
       "</table>\n",
       "</div>"
      ],
      "text/plain": [
       "   80   362\n",
       "0    1    1"
      ]
     },
     "metadata": {},
     "output_type": "display_data"
    },
    {
     "name": "stdout",
     "output_type": "stream",
     "text": [
      "\n",
      "Threshold: 9\n",
      "Number of Nodes: 441\n",
      "Length of Connected Components\n"
     ]
    },
    {
     "data": {
      "text/html": [
       "<div>\n",
       "<style scoped>\n",
       "    .dataframe tbody tr th:only-of-type {\n",
       "        vertical-align: middle;\n",
       "    }\n",
       "\n",
       "    .dataframe tbody tr th {\n",
       "        vertical-align: top;\n",
       "    }\n",
       "\n",
       "    .dataframe thead th {\n",
       "        text-align: right;\n",
       "    }\n",
       "</style>\n",
       "<table border=\"1\" class=\"dataframe\">\n",
       "  <thead>\n",
       "    <tr style=\"text-align: right;\">\n",
       "      <th></th>\n",
       "      <th>79</th>\n",
       "      <th>362</th>\n",
       "    </tr>\n",
       "  </thead>\n",
       "  <tbody>\n",
       "    <tr>\n",
       "      <th>0</th>\n",
       "      <td>1</td>\n",
       "      <td>1</td>\n",
       "    </tr>\n",
       "  </tbody>\n",
       "</table>\n",
       "</div>"
      ],
      "text/plain": [
       "   79   362\n",
       "0    1    1"
      ]
     },
     "metadata": {},
     "output_type": "display_data"
    },
    {
     "name": "stdout",
     "output_type": "stream",
     "text": [
      "\n",
      "Threshold: 10\n",
      "Number of Nodes: 440\n",
      "Length of Connected Components\n"
     ]
    },
    {
     "data": {
      "text/html": [
       "<div>\n",
       "<style scoped>\n",
       "    .dataframe tbody tr th:only-of-type {\n",
       "        vertical-align: middle;\n",
       "    }\n",
       "\n",
       "    .dataframe tbody tr th {\n",
       "        vertical-align: top;\n",
       "    }\n",
       "\n",
       "    .dataframe thead th {\n",
       "        text-align: right;\n",
       "    }\n",
       "</style>\n",
       "<table border=\"1\" class=\"dataframe\">\n",
       "  <thead>\n",
       "    <tr style=\"text-align: right;\">\n",
       "      <th></th>\n",
       "      <th>78</th>\n",
       "      <th>362</th>\n",
       "    </tr>\n",
       "  </thead>\n",
       "  <tbody>\n",
       "    <tr>\n",
       "      <th>0</th>\n",
       "      <td>1</td>\n",
       "      <td>1</td>\n",
       "    </tr>\n",
       "  </tbody>\n",
       "</table>\n",
       "</div>"
      ],
      "text/plain": [
       "   78   362\n",
       "0    1    1"
      ]
     },
     "metadata": {},
     "output_type": "display_data"
    },
    {
     "name": "stdout",
     "output_type": "stream",
     "text": [
      "\n",
      "Threshold: 11\n",
      "Number of Nodes: 439\n",
      "Length of Connected Components\n"
     ]
    },
    {
     "data": {
      "text/html": [
       "<div>\n",
       "<style scoped>\n",
       "    .dataframe tbody tr th:only-of-type {\n",
       "        vertical-align: middle;\n",
       "    }\n",
       "\n",
       "    .dataframe tbody tr th {\n",
       "        vertical-align: top;\n",
       "    }\n",
       "\n",
       "    .dataframe thead th {\n",
       "        text-align: right;\n",
       "    }\n",
       "</style>\n",
       "<table border=\"1\" class=\"dataframe\">\n",
       "  <thead>\n",
       "    <tr style=\"text-align: right;\">\n",
       "      <th></th>\n",
       "      <th>78</th>\n",
       "      <th>361</th>\n",
       "    </tr>\n",
       "  </thead>\n",
       "  <tbody>\n",
       "    <tr>\n",
       "      <th>0</th>\n",
       "      <td>1</td>\n",
       "      <td>1</td>\n",
       "    </tr>\n",
       "  </tbody>\n",
       "</table>\n",
       "</div>"
      ],
      "text/plain": [
       "   78   361\n",
       "0    1    1"
      ]
     },
     "metadata": {},
     "output_type": "display_data"
    },
    {
     "name": "stdout",
     "output_type": "stream",
     "text": [
      "\n",
      "Threshold: 12\n",
      "Number of Nodes: 429\n",
      "Length of Connected Components\n"
     ]
    },
    {
     "data": {
      "text/html": [
       "<div>\n",
       "<style scoped>\n",
       "    .dataframe tbody tr th:only-of-type {\n",
       "        vertical-align: middle;\n",
       "    }\n",
       "\n",
       "    .dataframe tbody tr th {\n",
       "        vertical-align: top;\n",
       "    }\n",
       "\n",
       "    .dataframe thead th {\n",
       "        text-align: right;\n",
       "    }\n",
       "</style>\n",
       "<table border=\"1\" class=\"dataframe\">\n",
       "  <thead>\n",
       "    <tr style=\"text-align: right;\">\n",
       "      <th></th>\n",
       "      <th>77</th>\n",
       "      <th>352</th>\n",
       "    </tr>\n",
       "  </thead>\n",
       "  <tbody>\n",
       "    <tr>\n",
       "      <th>0</th>\n",
       "      <td>1</td>\n",
       "      <td>1</td>\n",
       "    </tr>\n",
       "  </tbody>\n",
       "</table>\n",
       "</div>"
      ],
      "text/plain": [
       "   77   352\n",
       "0    1    1"
      ]
     },
     "metadata": {},
     "output_type": "display_data"
    },
    {
     "name": "stdout",
     "output_type": "stream",
     "text": [
      "\n",
      "Threshold: 13\n",
      "Number of Nodes: 419\n",
      "Length of Connected Components\n"
     ]
    },
    {
     "data": {
      "text/html": [
       "<div>\n",
       "<style scoped>\n",
       "    .dataframe tbody tr th:only-of-type {\n",
       "        vertical-align: middle;\n",
       "    }\n",
       "\n",
       "    .dataframe tbody tr th {\n",
       "        vertical-align: top;\n",
       "    }\n",
       "\n",
       "    .dataframe thead th {\n",
       "        text-align: right;\n",
       "    }\n",
       "</style>\n",
       "<table border=\"1\" class=\"dataframe\">\n",
       "  <thead>\n",
       "    <tr style=\"text-align: right;\">\n",
       "      <th></th>\n",
       "      <th>77</th>\n",
       "      <th>342</th>\n",
       "    </tr>\n",
       "  </thead>\n",
       "  <tbody>\n",
       "    <tr>\n",
       "      <th>0</th>\n",
       "      <td>1</td>\n",
       "      <td>1</td>\n",
       "    </tr>\n",
       "  </tbody>\n",
       "</table>\n",
       "</div>"
      ],
      "text/plain": [
       "   77   342\n",
       "0    1    1"
      ]
     },
     "metadata": {},
     "output_type": "display_data"
    },
    {
     "name": "stdout",
     "output_type": "stream",
     "text": [
      "\n",
      "Threshold: 14\n",
      "Number of Nodes: 382\n",
      "Length of Connected Components\n"
     ]
    },
    {
     "data": {
      "text/html": [
       "<div>\n",
       "<style scoped>\n",
       "    .dataframe tbody tr th:only-of-type {\n",
       "        vertical-align: middle;\n",
       "    }\n",
       "\n",
       "    .dataframe tbody tr th {\n",
       "        vertical-align: top;\n",
       "    }\n",
       "\n",
       "    .dataframe thead th {\n",
       "        text-align: right;\n",
       "    }\n",
       "</style>\n",
       "<table border=\"1\" class=\"dataframe\">\n",
       "  <thead>\n",
       "    <tr style=\"text-align: right;\">\n",
       "      <th></th>\n",
       "      <th>2</th>\n",
       "      <th>77</th>\n",
       "      <th>303</th>\n",
       "    </tr>\n",
       "  </thead>\n",
       "  <tbody>\n",
       "    <tr>\n",
       "      <th>0</th>\n",
       "      <td>1</td>\n",
       "      <td>1</td>\n",
       "      <td>1</td>\n",
       "    </tr>\n",
       "  </tbody>\n",
       "</table>\n",
       "</div>"
      ],
      "text/plain": [
       "   2    77   303\n",
       "0    1    1    1"
      ]
     },
     "metadata": {},
     "output_type": "display_data"
    },
    {
     "name": "stdout",
     "output_type": "stream",
     "text": [
      "\n",
      "Threshold: 15\n",
      "Number of Nodes: 325\n",
      "Length of Connected Components\n"
     ]
    },
    {
     "data": {
      "text/html": [
       "<div>\n",
       "<style scoped>\n",
       "    .dataframe tbody tr th:only-of-type {\n",
       "        vertical-align: middle;\n",
       "    }\n",
       "\n",
       "    .dataframe tbody tr th {\n",
       "        vertical-align: top;\n",
       "    }\n",
       "\n",
       "    .dataframe thead th {\n",
       "        text-align: right;\n",
       "    }\n",
       "</style>\n",
       "<table border=\"1\" class=\"dataframe\">\n",
       "  <thead>\n",
       "    <tr style=\"text-align: right;\">\n",
       "      <th></th>\n",
       "      <th>2</th>\n",
       "      <th>77</th>\n",
       "      <th>246</th>\n",
       "    </tr>\n",
       "  </thead>\n",
       "  <tbody>\n",
       "    <tr>\n",
       "      <th>0</th>\n",
       "      <td>1</td>\n",
       "      <td>1</td>\n",
       "      <td>1</td>\n",
       "    </tr>\n",
       "  </tbody>\n",
       "</table>\n",
       "</div>"
      ],
      "text/plain": [
       "   2    77   246\n",
       "0    1    1    1"
      ]
     },
     "metadata": {},
     "output_type": "display_data"
    },
    {
     "name": "stdout",
     "output_type": "stream",
     "text": [
      "\n",
      "Threshold: 16\n",
      "Number of Nodes: 252\n",
      "Length of Connected Components\n"
     ]
    },
    {
     "data": {
      "text/html": [
       "<div>\n",
       "<style scoped>\n",
       "    .dataframe tbody tr th:only-of-type {\n",
       "        vertical-align: middle;\n",
       "    }\n",
       "\n",
       "    .dataframe tbody tr th {\n",
       "        vertical-align: top;\n",
       "    }\n",
       "\n",
       "    .dataframe thead th {\n",
       "        text-align: right;\n",
       "    }\n",
       "</style>\n",
       "<table border=\"1\" class=\"dataframe\">\n",
       "  <thead>\n",
       "    <tr style=\"text-align: right;\">\n",
       "      <th></th>\n",
       "      <th>77</th>\n",
       "      <th>175</th>\n",
       "    </tr>\n",
       "  </thead>\n",
       "  <tbody>\n",
       "    <tr>\n",
       "      <th>0</th>\n",
       "      <td>1</td>\n",
       "      <td>1</td>\n",
       "    </tr>\n",
       "  </tbody>\n",
       "</table>\n",
       "</div>"
      ],
      "text/plain": [
       "   77   175\n",
       "0    1    1"
      ]
     },
     "metadata": {},
     "output_type": "display_data"
    },
    {
     "name": "stdout",
     "output_type": "stream",
     "text": [
      "\n",
      "Threshold: 17\n",
      "Number of Nodes: 195\n",
      "Length of Connected Components\n"
     ]
    },
    {
     "data": {
      "text/html": [
       "<div>\n",
       "<style scoped>\n",
       "    .dataframe tbody tr th:only-of-type {\n",
       "        vertical-align: middle;\n",
       "    }\n",
       "\n",
       "    .dataframe tbody tr th {\n",
       "        vertical-align: top;\n",
       "    }\n",
       "\n",
       "    .dataframe thead th {\n",
       "        text-align: right;\n",
       "    }\n",
       "</style>\n",
       "<table border=\"1\" class=\"dataframe\">\n",
       "  <thead>\n",
       "    <tr style=\"text-align: right;\">\n",
       "      <th></th>\n",
       "      <th>76</th>\n",
       "      <th>119</th>\n",
       "    </tr>\n",
       "  </thead>\n",
       "  <tbody>\n",
       "    <tr>\n",
       "      <th>0</th>\n",
       "      <td>1</td>\n",
       "      <td>1</td>\n",
       "    </tr>\n",
       "  </tbody>\n",
       "</table>\n",
       "</div>"
      ],
      "text/plain": [
       "   76   119\n",
       "0    1    1"
      ]
     },
     "metadata": {},
     "output_type": "display_data"
    },
    {
     "name": "stdout",
     "output_type": "stream",
     "text": [
      "\n",
      "Threshold: 18\n",
      "Number of Nodes: 145\n",
      "Length of Connected Components\n"
     ]
    },
    {
     "data": {
      "text/html": [
       "<div>\n",
       "<style scoped>\n",
       "    .dataframe tbody tr th:only-of-type {\n",
       "        vertical-align: middle;\n",
       "    }\n",
       "\n",
       "    .dataframe tbody tr th {\n",
       "        vertical-align: top;\n",
       "    }\n",
       "\n",
       "    .dataframe thead th {\n",
       "        text-align: right;\n",
       "    }\n",
       "</style>\n",
       "<table border=\"1\" class=\"dataframe\">\n",
       "  <thead>\n",
       "    <tr style=\"text-align: right;\">\n",
       "      <th></th>\n",
       "      <th>70</th>\n",
       "      <th>75</th>\n",
       "    </tr>\n",
       "  </thead>\n",
       "  <tbody>\n",
       "    <tr>\n",
       "      <th>0</th>\n",
       "      <td>1</td>\n",
       "      <td>1</td>\n",
       "    </tr>\n",
       "  </tbody>\n",
       "</table>\n",
       "</div>"
      ],
      "text/plain": [
       "   70  75\n",
       "0   1   1"
      ]
     },
     "metadata": {},
     "output_type": "display_data"
    },
    {
     "name": "stdout",
     "output_type": "stream",
     "text": [
      "\n",
      "Threshold: 19\n",
      "Number of Nodes: 112\n",
      "Length of Connected Components\n"
     ]
    },
    {
     "data": {
      "text/html": [
       "<div>\n",
       "<style scoped>\n",
       "    .dataframe tbody tr th:only-of-type {\n",
       "        vertical-align: middle;\n",
       "    }\n",
       "\n",
       "    .dataframe tbody tr th {\n",
       "        vertical-align: top;\n",
       "    }\n",
       "\n",
       "    .dataframe thead th {\n",
       "        text-align: right;\n",
       "    }\n",
       "</style>\n",
       "<table border=\"1\" class=\"dataframe\">\n",
       "  <thead>\n",
       "    <tr style=\"text-align: right;\">\n",
       "      <th></th>\n",
       "      <th>39</th>\n",
       "      <th>73</th>\n",
       "    </tr>\n",
       "  </thead>\n",
       "  <tbody>\n",
       "    <tr>\n",
       "      <th>0</th>\n",
       "      <td>1</td>\n",
       "      <td>1</td>\n",
       "    </tr>\n",
       "  </tbody>\n",
       "</table>\n",
       "</div>"
      ],
      "text/plain": [
       "   39  73\n",
       "0   1   1"
      ]
     },
     "metadata": {},
     "output_type": "display_data"
    },
    {
     "name": "stdout",
     "output_type": "stream",
     "text": [
      "\n"
     ]
    }
   ],
   "source": [
    "islands_P = islandMethod(P)\n",
    "\n",
    "for i in islands_P:\n",
    "    print('Threshold: ' + str(i[0]))\n",
    "    print('Number of Nodes: ' + str(len(i[1])))\n",
    "    print('Length of Connected Components')\n",
    "    display(pd.DataFrame(pd.Series([len(c) for c in sorted(nx.connected_components(i[1]), key=len)]).value_counts().sort_index()).T)\n",
    "    print()"
   ]
  },
  {
   "cell_type": "code",
   "execution_count": 11,
   "id": "0580ed54",
   "metadata": {},
   "outputs": [
    {
     "data": {
      "image/png": "[encoded data removed]",
      "text/plain": [
       "<Figure size 432x288 with 1 Axes>"
      ]
     },
     "metadata": {},
     "output_type": "display_data"
    }
   ],
   "source": [
    "island = islands_P[18][1]\n",
    "nx.draw(island, with_labels = False)\n",
    "plt.show()"
   ]
  },
  {
   "cell_type": "code",
   "execution_count": 12,
   "id": "5b31f437",
   "metadata": {
    "scrolled": false
   },
   "outputs": [
    {
     "data": {
      "text/html": [
       "<div>\n",
       "<style scoped>\n",
       "    .dataframe tbody tr th:only-of-type {\n",
       "        vertical-align: middle;\n",
       "    }\n",
       "\n",
       "    .dataframe tbody tr th {\n",
       "        vertical-align: top;\n",
       "    }\n",
       "\n",
       "    .dataframe thead th {\n",
       "        text-align: right;\n",
       "    }\n",
       "</style>\n",
       "<table border=\"1\" class=\"dataframe\">\n",
       "  <thead>\n",
       "    <tr style=\"text-align: right;\">\n",
       "      <th></th>\n",
       "      <th>degree</th>\n",
       "      <th>degree_centrality</th>\n",
       "      <th>eigenvector</th>\n",
       "      <th>closeness</th>\n",
       "      <th>betweenness</th>\n",
       "    </tr>\n",
       "  </thead>\n",
       "  <tbody>\n",
       "    <tr>\n",
       "      <th>a</th>\n",
       "      <td>72</td>\n",
       "      <td>0.648649</td>\n",
       "      <td>7.071068e-01</td>\n",
       "      <td>0.648649</td>\n",
       "      <td>0.418673</td>\n",
       "    </tr>\n",
       "    <tr>\n",
       "      <th>မြန်မာမင်းဒွန်းဂါးမင့်မင်နျူဖက်ချားရင်းကုမ္ပဏီလီမိတက်</th>\n",
       "      <td>22</td>\n",
       "      <td>0.198198</td>\n",
       "      <td>-1.054393e-16</td>\n",
       "      <td>0.197106</td>\n",
       "      <td>0.075221</td>\n",
       "    </tr>\n",
       "    <tr>\n",
       "      <th>အရှေ့တိုင်းအထည်ချုပ်ကုမ္ပဏီလီမိတက်</th>\n",
       "      <td>14</td>\n",
       "      <td>0.126126</td>\n",
       "      <td>-8.715114e-16</td>\n",
       "      <td>0.156735</td>\n",
       "      <td>0.053392</td>\n",
       "    </tr>\n",
       "    <tr>\n",
       "      <th>ထရိုင်းဒင့်မြန်မာဂျင်နရယ်ထရိတ်ဒင်းကုမ္ပဏီလီမိတက်</th>\n",
       "      <td>11</td>\n",
       "      <td>0.099099</td>\n",
       "      <td>-5.417107e-16</td>\n",
       "      <td>0.162613</td>\n",
       "      <td>0.017654</td>\n",
       "    </tr>\n",
       "    <tr>\n",
       "      <th>သိန်းငှက်အပြည်ပြည်ဆိုင်ရာစက်မှုလီမိတက်</th>\n",
       "      <td>4</td>\n",
       "      <td>0.036036</td>\n",
       "      <td>2.053466e-17</td>\n",
       "      <td>0.122727</td>\n",
       "      <td>0.012947</td>\n",
       "    </tr>\n",
       "    <tr>\n",
       "      <th>pyi phyo tun international      ပြည့်ဖြိုးထွန်း အင်တာနေရှင်နယ် ကုမ္ပဏီလီမိတက်</th>\n",
       "      <td>3</td>\n",
       "      <td>0.027027</td>\n",
       "      <td>-5.034294e-16</td>\n",
       "      <td>0.166782</td>\n",
       "      <td>0.009212</td>\n",
       "    </tr>\n",
       "    <tr>\n",
       "      <th>မြန်မာအဆင့်မြင့်ရွေးချယ်မှုကုမ္ပဏီလီမိတက်</th>\n",
       "      <td>3</td>\n",
       "      <td>0.027027</td>\n",
       "      <td>-4.216610e-16</td>\n",
       "      <td>0.166782</td>\n",
       "      <td>0.009212</td>\n",
       "    </tr>\n",
       "    <tr>\n",
       "      <th>ပြည့်ဖြိုးထွန်းအင်တာနေရှင်နယ်ကုမ္ပဏီလီမိတက်</th>\n",
       "      <td>3</td>\n",
       "      <td>0.027027</td>\n",
       "      <td>-4.826904e-16</td>\n",
       "      <td>0.166782</td>\n",
       "      <td>0.009212</td>\n",
       "    </tr>\n",
       "    <tr>\n",
       "      <th>သီရိစန္ဒာအထည်ချုပ်လုပ်ငန်း နှင့် အထွေထွေရောင်းဝယ်ရေး သမဝါယမ လီမိတက်</th>\n",
       "      <td>3</td>\n",
       "      <td>0.027027</td>\n",
       "      <td>-3.961018e-16</td>\n",
       "      <td>0.166782</td>\n",
       "      <td>0.009212</td>\n",
       "    </tr>\n",
       "    <tr>\n",
       "      <th>အောင်မြင်ကျော်စောထင်ရှားသော အပြည်ပြည်ဆိုင်ရာ ထုတ်လုပ်မှုကုမ္ပဏီလီမိတက်  win glory international manufacturing</th>\n",
       "      <td>2</td>\n",
       "      <td>0.018018</td>\n",
       "      <td>-2.441798e-16</td>\n",
       "      <td>0.116152</td>\n",
       "      <td>0.006224</td>\n",
       "    </tr>\n",
       "    <tr>\n",
       "      <th>ပစိဖိတ်ဂါးမင့် မင်နယူဖတ်ချားရင်း ကုမ္ပဏီ လီမိတက် pacific garment manufacturing co</th>\n",
       "      <td>2</td>\n",
       "      <td>0.018018</td>\n",
       "      <td>-2.169057e-16</td>\n",
       "      <td>0.130090</td>\n",
       "      <td>0.000000</td>\n",
       "    </tr>\n",
       "    <tr>\n",
       "      <th>ထရိုင်းဒင့်မြန်မာဂျင််နရယ် ထရိတ်ဒင်း ကုမ္ပဏီလီမိတက်</th>\n",
       "      <td>2</td>\n",
       "      <td>0.018018</td>\n",
       "      <td>-2.742522e-16</td>\n",
       "      <td>0.130090</td>\n",
       "      <td>0.000000</td>\n",
       "    </tr>\n",
       "    <tr>\n",
       "      <th>ရွှေခြင်္သေ့အင်တာနေရှင်နယ်ဟိုးလ်ဒင်းကုမ္ပဏီလီမိတက်shwe chinthe international holding co</th>\n",
       "      <td>2</td>\n",
       "      <td>0.018018</td>\n",
       "      <td>-2.372653e-16</td>\n",
       "      <td>0.130090</td>\n",
       "      <td>0.000000</td>\n",
       "    </tr>\n",
       "    <tr>\n",
       "      <th>မြန်မာမင်းဒွန်းဂါးမင့်မင်နျူဖက်ချားရင်း ကုမ္ပဏီလီမိတက်</th>\n",
       "      <td>2</td>\n",
       "      <td>0.018018</td>\n",
       "      <td>-2.034269e-16</td>\n",
       "      <td>0.130090</td>\n",
       "      <td>0.000000</td>\n",
       "    </tr>\n",
       "    <tr>\n",
       "      <th>myanmar electrical business group public   မြန်မာလျှပ်စစ် စီးပွားရေး အဖွဲ့ အများနှင့် သက်ဆိုင်သော ကုမ္ပဏီလီမိတက်</th>\n",
       "      <td>2</td>\n",
       "      <td>0.018018</td>\n",
       "      <td>-1.511284e-16</td>\n",
       "      <td>0.136937</td>\n",
       "      <td>0.011309</td>\n",
       "    </tr>\n",
       "    <tr>\n",
       "      <th>ပင်းယမန်နျူဖက်ချားရင်း ကုမ္ပဏီလီမိတက်</th>\n",
       "      <td>1</td>\n",
       "      <td>0.009009</td>\n",
       "      <td>-1.997161e-16</td>\n",
       "      <td>0.126301</td>\n",
       "      <td>0.000000</td>\n",
       "    </tr>\n",
       "    <tr>\n",
       "      <th>2</th>\n",
       "      <td>1</td>\n",
       "      <td>0.009009</td>\n",
       "      <td>8.333333e-02</td>\n",
       "      <td>0.326592</td>\n",
       "      <td>0.000000</td>\n",
       "    </tr>\n",
       "    <tr>\n",
       "      <th>အာရှဆန်းကြယ်သောပစ္စည်းများကုမ္ပဏီလီမိတက် magic material asia</th>\n",
       "      <td>1</td>\n",
       "      <td>0.009009</td>\n",
       "      <td>-3.837492e-17</td>\n",
       "      <td>0.090972</td>\n",
       "      <td>0.000000</td>\n",
       "    </tr>\n",
       "    <tr>\n",
       "      <th>မန်စာအိုင်းရင်းအင်န် စတီးဖယ်ဘရီကေးရှင်းအင်န် မန်နျူဖက်ချားရင်ကုမ္ပဏီလီမိတက် mansa iron and steel fabrication  manufacturing co</th>\n",
       "      <td>1</td>\n",
       "      <td>0.009009</td>\n",
       "      <td>-9.075365e-17</td>\n",
       "      <td>0.126301</td>\n",
       "      <td>0.000000</td>\n",
       "    </tr>\n",
       "    <tr>\n",
       "      <th>l</th>\n",
       "      <td>1</td>\n",
       "      <td>0.009009</td>\n",
       "      <td>8.333333e-02</td>\n",
       "      <td>0.326592</td>\n",
       "      <td>0.000000</td>\n",
       "    </tr>\n",
       "  </tbody>\n",
       "</table>\n",
       "</div>"
      ],
      "text/plain": [
       "                                                    degree  degree_centrality  \\\n",
       "a                                                       72           0.648649   \n",
       "မြန်မာမင်းဒွန်းဂါးမင့်မင်နျူဖက်ချားရင်းကုမ္ပဏီလ...      22           0.198198   \n",
       "အရှေ့တိုင်းအထည်ချုပ်ကုမ္ပဏီလီမိတက်                      14           0.126126   \n",
       "ထရိုင်းဒင့်မြန်မာဂျင်နရယ်ထရိတ်ဒင်းကုမ္ပဏီလီမိတက်        11           0.099099   \n",
       "သိန်းငှက်အပြည်ပြည်ဆိုင်ရာစက်မှုလီမိတက်                   4           0.036036   \n",
       "pyi phyo tun international      ပြည့်ဖြိုးထွန်း...       3           0.027027   \n",
       "မြန်မာအဆင့်မြင့်ရွေးချယ်မှုကုမ္ပဏီလီမိတက်                3           0.027027   \n",
       "ပြည့်ဖြိုးထွန်းအင်တာနေရှင်နယ်ကုမ္ပဏီလီမိတက်              3           0.027027   \n",
       "သီရိစန္ဒာအထည်ချုပ်လုပ်ငန်း နှင့် အထွေထွေရောင်းဝ...       3           0.027027   \n",
       "အောင်မြင်ကျော်စောထင်ရှားသော အပြည်ပြည်ဆိုင်ရာ ထု...       2           0.018018   \n",
       "ပစိဖိတ်ဂါးမင့် မင်နယူဖတ်ချားရင်း ကုမ္ပဏီ လီမိတက...       2           0.018018   \n",
       "ထရိုင်းဒင့်မြန်မာဂျင််နရယ် ထရိတ်ဒင်း ကုမ္ပဏီလီမ...       2           0.018018   \n",
       "ရွှေခြင်္သေ့အင်တာနေရှင်နယ်ဟိုးလ်ဒင်းကုမ္ပဏီလီမိ...       2           0.018018   \n",
       "မြန်မာမင်းဒွန်းဂါးမင့်မင်နျူဖက်ချားရင်း ကုမ္ပဏီ...       2           0.018018   \n",
       "myanmar electrical business group public   မြန်...       2           0.018018   \n",
       "ပင်းယမန်နျူဖက်ချားရင်း ကုမ္ပဏီလီမိတက်                    1           0.009009   \n",
       "2                                                        1           0.009009   \n",
       "အာရှဆန်းကြယ်သောပစ္စည်းများကုမ္ပဏီလီမိတက် magic ...       1           0.009009   \n",
       "မန်စာအိုင်းရင်းအင်န် စတီးဖယ်ဘရီကေးရှင်းအင်န် မန...       1           0.009009   \n",
       "l                                                        1           0.009009   \n",
       "\n",
       "                                                     eigenvector  closeness  \\\n",
       "a                                                   7.071068e-01   0.648649   \n",
       "မြန်မာမင်းဒွန်းဂါးမင့်မင်နျူဖက်ချားရင်းကုမ္ပဏီလ... -1.054393e-16   0.197106   \n",
       "အရှေ့တိုင်းအထည်ချုပ်ကုမ္ပဏီလီမိတက်                 -8.715114e-16   0.156735   \n",
       "ထရိုင်းဒင့်မြန်မာဂျင်နရယ်ထရိတ်ဒင်းကုမ္ပဏီလီမိတက်   -5.417107e-16   0.162613   \n",
       "သိန်းငှက်အပြည်ပြည်ဆိုင်ရာစက်မှုလီမိတက်              2.053466e-17   0.122727   \n",
       "pyi phyo tun international      ပြည့်ဖြိုးထွန်း... -5.034294e-16   0.166782   \n",
       "မြန်မာအဆင့်မြင့်ရွေးချယ်မှုကုမ္ပဏီလီမိတက်          -4.216610e-16   0.166782   \n",
       "ပြည့်ဖြိုးထွန်းအင်တာနေရှင်နယ်ကုမ္ပဏီလီမိတက်        -4.826904e-16   0.166782   \n",
       "သီရိစန္ဒာအထည်ချုပ်လုပ်ငန်း နှင့် အထွေထွေရောင်းဝ... -3.961018e-16   0.166782   \n",
       "အောင်မြင်ကျော်စောထင်ရှားသော အပြည်ပြည်ဆိုင်ရာ ထု... -2.441798e-16   0.116152   \n",
       "ပစိဖိတ်ဂါးမင့် မင်နယူဖတ်ချားရင်း ကုမ္ပဏီ လီမိတက... -2.169057e-16   0.130090   \n",
       "ထရိုင်းဒင့်မြန်မာဂျင််နရယ် ထရိတ်ဒင်း ကုမ္ပဏီလီမ... -2.742522e-16   0.130090   \n",
       "ရွှေခြင်္သေ့အင်တာနေရှင်နယ်ဟိုးလ်ဒင်းကုမ္ပဏီလီမိ... -2.372653e-16   0.130090   \n",
       "မြန်မာမင်းဒွန်းဂါးမင့်မင်နျူဖက်ချားရင်း ကုမ္ပဏီ... -2.034269e-16   0.130090   \n",
       "myanmar electrical business group public   မြန်... -1.511284e-16   0.136937   \n",
       "ပင်းယမန်နျူဖက်ချားရင်း ကုမ္ပဏီလီမိတက်              -1.997161e-16   0.126301   \n",
       "2                                                   8.333333e-02   0.326592   \n",
       "အာရှဆန်းကြယ်သောပစ္စည်းများကုမ္ပဏီလီမိတက် magic ... -3.837492e-17   0.090972   \n",
       "မန်စာအိုင်းရင်းအင်န် စတီးဖယ်ဘရီကေးရှင်းအင်န် မန... -9.075365e-17   0.126301   \n",
       "l                                                   8.333333e-02   0.326592   \n",
       "\n",
       "                                                    betweenness  \n",
       "a                                                      0.418673  \n",
       "မြန်မာမင်းဒွန်းဂါးမင့်မင်နျူဖက်ချားရင်းကုမ္ပဏီလ...     0.075221  \n",
       "အရှေ့တိုင်းအထည်ချုပ်ကုမ္ပဏီလီမိတက်                     0.053392  \n",
       "ထရိုင်းဒင့်မြန်မာဂျင်နရယ်ထရိတ်ဒင်းကုမ္ပဏီလီမိတက်       0.017654  \n",
       "သိန်းငှက်အပြည်ပြည်ဆိုင်ရာစက်မှုလီမိတက်                 0.012947  \n",
       "pyi phyo tun international      ပြည့်ဖြိုးထွန်း...     0.009212  \n",
       "မြန်မာအဆင့်မြင့်ရွေးချယ်မှုကုမ္ပဏီလီမိတက်              0.009212  \n",
       "ပြည့်ဖြိုးထွန်းအင်တာနေရှင်နယ်ကုမ္ပဏီလီမိတက်            0.009212  \n",
       "သီရိစန္ဒာအထည်ချုပ်လုပ်ငန်း နှင့် အထွေထွေရောင်းဝ...     0.009212  \n",
       "အောင်မြင်ကျော်စောထင်ရှားသော အပြည်ပြည်ဆိုင်ရာ ထု...     0.006224  \n",
       "ပစိဖိတ်ဂါးမင့် မင်နယူဖတ်ချားရင်း ကုမ္ပဏီ လီမိတက...     0.000000  \n",
       "ထရိုင်းဒင့်မြန်မာဂျင််နရယ် ထရိတ်ဒင်း ကုမ္ပဏီလီမ...     0.000000  \n",
       "ရွှေခြင်္သေ့အင်တာနေရှင်နယ်ဟိုးလ်ဒင်းကုမ္ပဏီလီမိ...     0.000000  \n",
       "မြန်မာမင်းဒွန်းဂါးမင့်မင်နျူဖက်ချားရင်း ကုမ္ပဏီ...     0.000000  \n",
       "myanmar electrical business group public   မြန်...     0.011309  \n",
       "ပင်းယမန်နျူဖက်ချားရင်း ကုမ္ပဏီလီမိတက်                  0.000000  \n",
       "2                                                      0.000000  \n",
       "အာရှဆန်းကြယ်သောပစ္စည်းများကုမ္ပဏီလီမိတက် magic ...     0.000000  \n",
       "မန်စာအိုင်းရင်းအင်န် စတီးဖယ်ဘရီကေးရှင်းအင်န် မန...     0.000000  \n",
       "l                                                      0.000000  "
      ]
     },
     "execution_count": 12,
     "metadata": {},
     "output_type": "execute_result"
    }
   ],
   "source": [
    "# Degree, Eigenvector Centrality and Betweenness are weighted by the total\n",
    "# number of shared contacts.  DEGREE_CENTRALITY and CLOSENESS are not weighted\n",
    "summaries = pd.DataFrame(dict(\n",
    "    degree = dict(island.degree(weight = 'weight')),\n",
    "    degree_centrality = nx.degree_centrality(island),\n",
    "    eigenvector = nx.eigenvector_centrality_numpy(island, weight = 'weight'),\n",
    "    closeness = nx.closeness_centrality(island),\n",
    "    betweenness = nx.betweenness_centrality(island, weight = 'weight')))\n",
    "\n",
    "summaries = summaries.sort_values(by = 'degree', ascending = False)\n",
    "summaries[:20]"
   ]
  },
  {
   "cell_type": "code",
   "execution_count": 13,
   "id": "f9daedbd",
   "metadata": {
    "scrolled": true
   },
   "outputs": [
    {
     "data": {
      "image/png": "[encoded data removed]",
      "text/plain": [
       "<Figure size 1080x1080 with 6 Axes>"
      ]
     },
     "metadata": {
      "needs_background": "light"
     },
     "output_type": "display_data"
    }
   ],
   "source": [
    "summaries.hist(bins = 10, figsize = (15, 15))\n",
    "plt.show()"
   ]
  }
 ],
 "metadata": {
  "kernelspec": {
   "display_name": "Python 3 (ipykernel)",
   "language": "python",
   "name": "python3"
  },
  "language_info": {
   "codemirror_mode": {
    "name": "ipython",
    "version": 3
   },
   "file_extension": ".py",
   "mimetype": "text/x-python",
   "name": "python",
   "nbconvert_exporter": "python",
   "pygments_lexer": "ipython3",
   "version": "3.9.6"
  }
 },
 "nbformat": 4,
 "nbformat_minor": 5
}
