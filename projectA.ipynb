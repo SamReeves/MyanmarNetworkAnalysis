{
 "cells": [
  {
   "cell_type": "markdown",
   "id": "06fe11d9",
   "metadata": {},
   "source": [
    "# DATA620 Final Project A\n",
    "## Network Analysis\n",
    "### Euclid Zhang ~ Sam Reeves ~ David Moste"
   ]
  },
  {
   "cell_type": "code",
   "execution_count": 1,
   "id": "339341fd",
   "metadata": {},
   "outputs": [],
   "source": [
    "import pandas as pd\n",
    "from pathlib import *\n",
    "import json\n",
    "import networkx as nx\n",
    "import matplotlib as plt\n",
    "import bs4"
   ]
  },
  {
   "cell_type": "code",
   "execution_count": 2,
   "id": "d6cac666",
   "metadata": {},
   "outputs": [],
   "source": [
    "# Company incorporation documents\n",
    "com_dir = Path('/home/s/fpa/data/company_info')\n",
    "\n",
    "# Investment proposals and information about real projects\n",
    "inv_dir = Path('/home/s/fpa/data/investment_info')\n",
    "\n",
    "# Definitions for codes found in the above documents\n",
    "#def_dir = Path('/home/s/fpa/data/definitions')"
   ]
  },
  {
   "cell_type": "markdown",
   "id": "24407881",
   "metadata": {},
   "source": [
    "# Helper Functions\n",
    "***\n",
    "#### pathToList()\n",
    "- Takes a directory full of JSON files\n",
    "- Returns a list containing a dict for each file read\n",
    "\n",
    "#### companyInfo()\n",
    "- Takes a list of dicts\n",
    "- Extracts Company Name, Addresses, Officers, and Officer Titles\n",
    "- Returns a DataFrame with this information"
   ]
  },
  {
   "cell_type": "code",
   "execution_count": 3,
   "id": "c6317ddc",
   "metadata": {},
   "outputs": [],
   "source": [
    "def pathToList(path_obj):\n",
    "    file_list = []\n",
    "    for file_path in path_obj.iterdir():\n",
    "        data = json.loads(file_path.read_bytes())\n",
    "        file_list.append(data)\n",
    "    return(file_list)\n",
    "\n",
    "def companyInfo(com_list = com_list):\n",
    "    info_list = []\n",
    "    \n",
    "    # Iterate over all companies in the list\n",
    "    for i in range(len(com_list)):\n",
    "        info = {}\n",
    "        \n",
    "        # Extract Company Name to \"title\"\n",
    "        info['title'] = com_list[i]['Officers'][0]['CompanyName']\n",
    "        \n",
    "        # Extract Company Addresses\n",
    "        for a in range(len(com_list[i]['Addresses'])):\n",
    "            info['address' + str(a)] = BeautifulSoup(\n",
    "                com_list[i]['Addresses'][a]['UIFormattedAddress']).get_text()\n",
    "        \n",
    "        # Extract Officer Information\n",
    "        for b in range(len(com_list[i]['Officers'])):\n",
    "            info['officer' + str(b) + 'name'] = com_list[0]['Officers'][0]['FullNameNormalized']\n",
    "            info['officer' + str(b) + 'type'] = com_list[0]['Officers'][0]['OfficerType']\n",
    "            \n",
    "        # Convert to DataFrame\n",
    "        info_list.append(info)\n",
    "        df = pd.DataFrame.from_dict(info_list, orient = 'columns')\n",
    "        \n",
    "    return(df)"
   ]
  },
  {
   "cell_type": "markdown",
   "id": "cdbc4b20",
   "metadata": {},
   "source": [
    "# Preprocessing\n",
    "***"
   ]
  },
  {
   "cell_type": "code",
   "execution_count": 4,
   "id": "42c0d13b",
   "metadata": {},
   "outputs": [],
   "source": [
    "com_list = pathToList(com_dir)\n",
    "inv_list = pathToList(inv_dir)"
   ]
  },
  {
   "cell_type": "markdown",
   "id": "5597e45d",
   "metadata": {},
   "source": [
    "# Network Analysis\n",
    "***"
   ]
  },
  {
   "cell_type": "markdown",
   "id": "b82c0a57",
   "metadata": {},
   "source": [
    "# Conclusions\n",
    "***"
   ]
  }
 ],
 "metadata": {
  "kernelspec": {
   "display_name": "Python 3 (ipykernel)",
   "language": "python",
   "name": "python3"
  },
  "language_info": {
   "codemirror_mode": {
    "name": "ipython",
    "version": 3
   },
   "file_extension": ".py",
   "mimetype": "text/x-python",
   "name": "python",
   "nbconvert_exporter": "python",
   "pygments_lexer": "ipython3",
   "version": "3.9.6"
  }
 },
 "nbformat": 4,
 "nbformat_minor": 5
}
