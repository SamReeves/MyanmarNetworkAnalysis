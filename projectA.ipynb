{
 "cells": [
  {
   "cell_type": "markdown",
   "id": "06fe11d9",
   "metadata": {},
   "source": [
    "# DATA620 Final Project A\n",
    "## Network Analysis\n",
    "\n",
    "# Project Description\n",
    "***\n",
    "\n",
    "We would like to find businesses (or ideally people) who are influential in drawing foreign and domestic investment in Myanmar.  Through basic network analysis techniques, we hope to find a clique of people or companies with common investment sources or common activities.\n",
    "\n",
    "# Data Description\n",
    "***\n",
    "\n",
    "This data was scraped and realeased anonymously from official government sources in two leaks called Myanmar Financials and Myanmar Investments.  The former is incorporation documents for ~125k companies, and the latter is information from investment proposals for about 10k companies.\n",
    "\n",
    "# Known Challenges\n",
    "***\n",
    "\n",
    "1. About 1/4 of the companies in Myanmar Financials paid somebody to approve their incorporation documents without addresses or names... We can do nothing about this.\n",
    "\n",
    "2. People in Myanmar are named for astrological information pertaining to their birth.  There is no family name, and many people have the same names.  We also cannot do anything about this.\n",
    "\n",
    "3. A small number of names are given in Burmese script, which is included in UTF-8, but is unreadable to our team.  We can leave the script as-is, and remove punctuation.\n",
    "\n",
    "# Method\n",
    "***\n",
    "\n",
    "1. Import and clean the data\n",
    "2. Create an edge list:\n",
    "> |Company Name |People\n",
    "> --- | --- \n",
    "> |companyNameInMyanmar |officers, landOwner, nameOfInvestor\n",
    "3. Project bipartite graph, view statistics\n",
    "4. Trim edges, weighted by number of names per company\n",
    "5. Visualize"
   ]
  },
  {
   "cell_type": "code",
   "execution_count": 1,
   "id": "339341fd",
   "metadata": {},
   "outputs": [],
   "source": [
    "import os\n",
    "from pathlib import *\n",
    "import json\n",
    "import pandas as pd\n",
    "import networkx as nx\n",
    "import matplotlib as plt\n",
    "from bs4 import BeautifulSoup\n",
    "import re\n",
    "import string"
   ]
  },
  {
   "cell_type": "code",
   "execution_count": 2,
   "id": "d6cac666",
   "metadata": {},
   "outputs": [],
   "source": [
    "# Company incorporation documents\n",
    "com_dir = Path('/home/s/fpa/data/company_info')\n",
    "\n",
    "# Investment proposals and information about real projects\n",
    "inv_dir = Path('/home/s/fpa/data/investment_info')"
   ]
  },
  {
   "cell_type": "markdown",
   "id": "24407881",
   "metadata": {},
   "source": [
    "# Helper Functions\n",
    "***\n",
    "#### pathToList()\n",
    "- Takes a Path object for a directory full of JSON files\n",
    "- Returns a list containing a dict for each file read in\n",
    "\n",
    "#### companyInfo()\n",
    "- Takes a list of dicts\n",
    "- Extracts copmany name and names of officers\n",
    "- Returns a DataFrame with this information\n",
    "\n",
    "#### investmentInfo()\n",
    "- Takes a list of lists of dicts\n",
    "- Converts dicts to DataFrames\n",
    "- Returns list of DataFrames\n",
    "\n",
    "#### cleanDF()\n",
    "- Takes a DataFrame\n",
    "- Converts all letters to lowercase\n",
    "- Substitutes ltd with limited\n",
    "- Removes all punctuation\n",
    "\n",
    "#### defineEdges()\n",
    "- Takes company information and a list of other DataFrames\n",
    "- Creates dictionary with key company name and value list of people\n",
    "- Adds investors to edge list\n",
    "- Returns edge list dictionary"
   ]
  },
  {
   "cell_type": "code",
   "execution_count": 3,
   "id": "c6317ddc",
   "metadata": {},
   "outputs": [],
   "source": [
    "def pathToList(path_obj):\n",
    "    file_list = []\n",
    "    for file_path in path_obj.iterdir():\n",
    "        data = json.loads(file_path.read_bytes())\n",
    "        file_list.append(data)\n",
    "    return(file_list)\n",
    "\n",
    "def companyInfo(com_list):\n",
    "    info_list = []\n",
    "    # Iterate over all companies in the list\n",
    "    for i in range(len(com_list)):\n",
    "        info = {}\n",
    "        # Extract Company Name to \"companyNameInMyanmar\"\n",
    "        info['companyNameInMyanmar'] = com_list[i]['Corp']['CompanyName']\n",
    "        # Extract Officer names\n",
    "        for b in range(len(com_list[i]['Officers'])):\n",
    "            info['officer' + str(b)] = com_list[i]['Officers'][b]['FullNameNormalized']\n",
    "        # Convert to DataFrame\n",
    "        info_list.append(info)\n",
    "    df = pd.DataFrame.from_dict(info_list, orient = 'columns')\n",
    "    return(df)\n",
    "\n",
    "def investmentInfo(inv_list):\n",
    "    investments = []\n",
    "    # Extract data from investment documents\n",
    "    for i in range(len(inv_list)):\n",
    "        d = pd.DataFrame.from_dict(\n",
    "            [x for x in inv_list[i]['data']], orient = 'columns')\n",
    "        investments.append(d)\n",
    "    return(investments)\n",
    "\n",
    "def cleanDF(df):\n",
    "    # Convert to lowercase\n",
    "    df = df.applymap(str)\n",
    "    df = df.applymap(lambda s:s.lower())\n",
    "    # ltd -> limited\n",
    "    df = df.applymap(lambda s:s.replace('ltd', 'limited'))\n",
    "    # Remove punctuation\n",
    "    df = df.applymap(lambda s:s.translate(str.maketrans('', '', string.punctuation)))         \n",
    "    # Strip trailing spaces\n",
    "    df = df.applymap(lambda s:s.strip)\n",
    "    return(df)\n",
    "\n",
    "def defineEdges(companies, investments):\n",
    "    edges = {}\n",
    "    # add all companies to edge list\n",
    "    for i in range(len(companies)):\n",
    "        co = companies.iloc[i,0]\n",
    "        edges[co] = []\n",
    "\n",
    "        # add officers as connections\n",
    "        for j in range(1,68):\n",
    "            officer = companies.iloc[i,j]\n",
    "            if officer != 'nan':\n",
    "                co.append(officer)\n",
    "            else:\n",
    "                break\n",
    "                \n",
    "    for doc in investments:\n",
    "        doc = cleanDF(doc)\n",
    "        for i in range(len(doc)):\n",
    "            co = doc.iloc[i]['companyNameInMyanmar']\n",
    "            inv = doc.iloc[i]['nameOfInvestor']\n",
    "\n",
    "            # add remaining companies to edge list\n",
    "            if co not in edges.keys():\n",
    "                edges[co] = []\n",
    "\n",
    "            # add investors as connections\n",
    "            if inv not in edges[co]:\n",
    "                edges[co].append(str(inv).replace(' ', ''))\n",
    "    return(edges)\n",
    "\n",
    "#com_with_info = companies.dropna(subset = ['address0', 'officer0name'], how = 'all')"
   ]
  },
  {
   "cell_type": "markdown",
   "id": "cdbc4b20",
   "metadata": {},
   "source": [
    "# Preprocessing\n",
    "***"
   ]
  },
  {
   "cell_type": "code",
   "execution_count": 4,
   "id": "42c0d13b",
   "metadata": {},
   "outputs": [],
   "source": [
    "companies = cleanDF(companyInfo(pathToList(com_dir)))\n",
    "investments = investmentInfo(pathToList(inv_dir))"
   ]
  },
  {
   "cell_type": "code",
   "execution_count": 5,
   "id": "7653e75f",
   "metadata": {
    "scrolled": false
   },
   "outputs": [
    {
     "ename": "AttributeError",
     "evalue": "'builtin_function_or_method' object has no attribute 'append'",
     "output_type": "error",
     "traceback": [
      "\u001b[0;31m---------------------------------------------------------------------------\u001b[0m",
      "\u001b[0;31mAttributeError\u001b[0m                            Traceback (most recent call last)",
      "\u001b[0;32m/tmp/ipykernel_4534/432551937.py\u001b[0m in \u001b[0;36m<module>\u001b[0;34m\u001b[0m\n\u001b[0;32m----> 1\u001b[0;31m \u001b[0mdefineEdges\u001b[0m\u001b[0;34m(\u001b[0m\u001b[0mcompanies\u001b[0m\u001b[0;34m,\u001b[0m \u001b[0minvestments\u001b[0m\u001b[0;34m)\u001b[0m\u001b[0;34m\u001b[0m\u001b[0;34m\u001b[0m\u001b[0m\n\u001b[0m",
      "\u001b[0;32m/tmp/ipykernel_4534/4026728653.py\u001b[0m in \u001b[0;36mdefineEdges\u001b[0;34m(companies, investments)\u001b[0m\n\u001b[1;32m     53\u001b[0m             \u001b[0mofficer\u001b[0m \u001b[0;34m=\u001b[0m \u001b[0mcompanies\u001b[0m\u001b[0;34m.\u001b[0m\u001b[0miloc\u001b[0m\u001b[0;34m[\u001b[0m\u001b[0mi\u001b[0m\u001b[0;34m,\u001b[0m\u001b[0mj\u001b[0m\u001b[0;34m]\u001b[0m\u001b[0;34m\u001b[0m\u001b[0;34m\u001b[0m\u001b[0m\n\u001b[1;32m     54\u001b[0m             \u001b[0;32mif\u001b[0m \u001b[0mofficer\u001b[0m \u001b[0;34m!=\u001b[0m \u001b[0;34m'nan'\u001b[0m\u001b[0;34m:\u001b[0m\u001b[0;34m\u001b[0m\u001b[0;34m\u001b[0m\u001b[0m\n\u001b[0;32m---> 55\u001b[0;31m                 \u001b[0mco\u001b[0m\u001b[0;34m.\u001b[0m\u001b[0mappend\u001b[0m\u001b[0;34m(\u001b[0m\u001b[0mofficer\u001b[0m\u001b[0;34m)\u001b[0m\u001b[0;34m\u001b[0m\u001b[0;34m\u001b[0m\u001b[0m\n\u001b[0m\u001b[1;32m     56\u001b[0m             \u001b[0;32melse\u001b[0m\u001b[0;34m:\u001b[0m\u001b[0;34m\u001b[0m\u001b[0;34m\u001b[0m\u001b[0m\n\u001b[1;32m     57\u001b[0m                 \u001b[0;32mbreak\u001b[0m\u001b[0;34m\u001b[0m\u001b[0;34m\u001b[0m\u001b[0m\n",
      "\u001b[0;31mAttributeError\u001b[0m: 'builtin_function_or_method' object has no attribute 'append'"
     ]
    }
   ],
   "source": [
    "defineEdges(companies, investments)"
   ]
  },
  {
   "cell_type": "markdown",
   "id": "5597e45d",
   "metadata": {},
   "source": [
    "# Network Analysis\n",
    "***"
   ]
  },
  {
   "cell_type": "markdown",
   "id": "b82c0a57",
   "metadata": {},
   "source": [
    "# Conclusions\n",
    "***"
   ]
  }
 ],
 "metadata": {
  "kernelspec": {
   "display_name": "Python 3 (ipykernel)",
   "language": "python",
   "name": "python3"
  },
  "language_info": {
   "codemirror_mode": {
    "name": "ipython",
    "version": 3
   },
   "file_extension": ".py",
   "mimetype": "text/x-python",
   "name": "python",
   "nbconvert_exporter": "python",
   "pygments_lexer": "ipython3",
   "version": "3.9.6"
  }
 },
 "nbformat": 4,
 "nbformat_minor": 5
}
