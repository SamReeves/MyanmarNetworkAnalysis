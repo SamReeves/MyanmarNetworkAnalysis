{
 "cells": [
  {
   "cell_type": "markdown",
   "id": "06fe11d9",
   "metadata": {},
   "source": [
    "# DATA620 Final Project A\n",
    "## Network Analysis\n",
    "\n",
    "# Project Description\n",
    "***\n",
    "\n",
    "We would like to find businesses (or ideally people) who are influential in drawing foreign and domestic investment in Myanmar.  Through basic network analysis techniques, we hope to find a clique of people or companies with common investment sources or common activities.\n",
    "\n",
    "# Data Description\n",
    "***\n",
    "\n",
    "This data was scraped and realeased anonymously from official government sources in two leaks called Myanmar Financials and Myanmar Investments.  The former is incorporation documents for ~125k companies, and the latter is information from investment proposals for about 10k companies.\n",
    "\n",
    "# Known Challenges\n",
    "***\n",
    "\n",
    "1. About 1/4 of the companies in Myanmar Financials paid somebody to approve their incorporation documents without addresses or names... We can remove companies with no listed officers.\n",
    "\n",
    "2. People in Myanmar are named for astrological information pertaining to their birth.  There is no family name, and many people have the same names.  We also cannot do anything about this.\n",
    "\n",
    "3. A small number of names are given in Burmese script, which is included in UTF-8, but is unreadable to our team.  We can leave the script as-is, and remove punctuation.\n",
    "\n",
    "4. Most companies did not apply for investment approval.  We will focus only on companies with investment records.\n",
    "\n",
    "# Method\n",
    "***\n",
    "\n",
    "1. Import and clean the data\n",
    "2. Create an edge list:\n",
    "> |Company Name |People\n",
    "> --- | --- \n",
    "> |companyNameInMyanmar |officers, landOwner, nameOfInvestor\n",
    "3. Project bipartite graph, view statistics\n",
    "4. Trim edges, weighted by number of names per company\n",
    "5. Visualize"
   ]
  },
  {
   "cell_type": "code",
   "execution_count": 17,
   "id": "339341fd",
   "metadata": {},
   "outputs": [],
   "source": [
    "import os\n",
    "import scipy\n",
    "from pathlib import *\n",
    "import json\n",
    "import pandas as pd\n",
    "import networkx as nx\n",
    "from networkx.algorithms import bipartite\n",
    "import matplotlib.pyplot as plt\n",
    "from bs4 import BeautifulSoup\n",
    "import re\n",
    "import string\n",
    "from collections import defaultdict\n",
    "from itertools import combinations"
   ]
  },
  {
   "cell_type": "code",
   "execution_count": 2,
   "id": "d6cac666",
   "metadata": {},
   "outputs": [],
   "source": [
    "# Company incorporation documents\n",
    "com_dir = Path('/home/s/fpa/data/company_info')\n",
    "# Investment proposals and information about real projects\n",
    "inv_dir = Path('/home/s/fpa/data/investment_info')"
   ]
  },
  {
   "cell_type": "markdown",
   "id": "24407881",
   "metadata": {},
   "source": [
    "# Helper Functions\n",
    "***\n",
    "#### pathToList()\n",
    "- Takes a Path object for a directory full of JSON files\n",
    "- Returns a list containing a dict for each file read in\n",
    "\n",
    "#### companyInfo()\n",
    "- Takes a list of dicts\n",
    "- Extracts copmany name and names of officers\n",
    "- Returns a DataFrame with this information\n",
    "\n",
    "#### investmentInfo()\n",
    "- Takes a list of lists of dicts\n",
    "- Converts dicts to DataFrames\n",
    "- Returns list of DataFrames\n",
    "\n",
    "#### cleanDF()\n",
    "- Takes a DataFrame\n",
    "- Converts all letters to lowercase\n",
    "- Substitutes ltd with limited\n",
    "- Removes all punctuation\n",
    "\n",
    "#### defineEdges()\n",
    "- Takes company information and a list of other DataFrames\n",
    "- Creates dictionary with key company name and value list of people\n",
    "- Adds investors to edge list\n",
    "- Returns edge list dictionary\n",
    "\n",
    "#### expandEdges()\n",
    "- Takes a dictionary of company nodes with lists of connected people\n",
    "- Returns a list of edges with only two nodes on each line\n",
    "\n",
    "#### trimEdges()\n",
    "\n",
    "#### islandMethod()"
   ]
  },
  {
   "cell_type": "code",
   "execution_count": 3,
   "id": "c6317ddc",
   "metadata": {},
   "outputs": [],
   "source": [
    "def pathToList(path_obj):\n",
    "    file_list = []\n",
    "    for file_path in path_obj.iterdir():\n",
    "        data = json.loads(file_path.read_bytes())\n",
    "        file_list.append(data)\n",
    "    return(file_list)\n",
    "\n",
    "def companyInfo(com_list):\n",
    "    info_list = []\n",
    "    # Iterate over all companies in the list\n",
    "    for i in range(len(com_list)):\n",
    "        info = {}\n",
    "        # Extract Company Name to \"companyNameInMyanmar\"\n",
    "        info['companyNameInMyanmar'] = com_list[i]['Corp']['CompanyName']\n",
    "        # Extract Officer names\n",
    "        for b in range(len(com_list[i]['Officers'])):\n",
    "            info['officer' + str(b)] = com_list[i]['Officers'][b]['FullNameNormalized']\n",
    "        # Convert to DataFrame\n",
    "        info_list.append(info)\n",
    "    df = pd.DataFrame.from_dict(info_list, orient = 'columns')\n",
    "    return(df)\n",
    "\n",
    "def investmentInfo(inv_list):\n",
    "    investments = []\n",
    "    # Extract data from investment documents\n",
    "    for i in range(len(inv_list)):\n",
    "        d = pd.DataFrame.from_dict(\n",
    "            [x for x in inv_list[i]['data']], orient = 'columns')\n",
    "        investments.append(d)\n",
    "    return(investments)\n",
    "\n",
    "def cleanDF(df):\n",
    "    # Convert to lowercase\n",
    "    df = df.applymap(str)\n",
    "    df = df.applymap(lambda s:s.lower())\n",
    "    # ltd -> limited\n",
    "    df = df.applymap(lambda s:s.replace('ltd', 'limited'))\n",
    "    # Remove punctuation\n",
    "    df = df.applymap(lambda s:s.translate(str.maketrans('', '', string.punctuation)))         \n",
    "    # Strip trailing spaces\n",
    "    #df = df.applymap(lambda s:s.strip)\n",
    "    return(df)\n",
    "\n",
    "def defineEdges(companies, investments):\n",
    "    edges = {}\n",
    "    # add companies with investment applications to the list\n",
    "    for doc in investments:\n",
    "        doc = cleanDF(doc)\n",
    "        for i in range(len(doc)):\n",
    "            co = doc.iloc[i]['companyNameInMyanmar']\n",
    "            inv = doc.iloc[i]['nameOfInvestor']\n",
    "            # add remaining companies to edge list\n",
    "            if co not in edges.keys():\n",
    "                edges[co] = []\n",
    "            # add investors as connections\n",
    "            if inv not in edges[co]:\n",
    "                edges[co].append(str(inv).replace(' ', ''))\n",
    "            # add company officers to the list\n",
    "    for i in range(len(companies)):\n",
    "        if companies.iloc[i, 0] in edges.keys():\n",
    "        # add officers as connections\n",
    "            for j in range(1,68):\n",
    "                officer = companies.iloc[i,j]\n",
    "                if officer != 'nan':\n",
    "                    edges[co].append(officer)\n",
    "                else:\n",
    "                    break\n",
    "    return(edges)\n",
    "\n",
    "def expandEdges(edges):\n",
    "    expanded_edges = []\n",
    "    for company in edges:\n",
    "        for person in company:\n",
    "            edge = (company, person)\n",
    "            expanded_edges.append(edge)\n",
    "    return(expanded_edges)\n",
    "\n",
    "def trimEdges(G, weight = 1):\n",
    "    G2 = nx.Graph()\n",
    "    edata = nx.to_pandas_edgelist(G)\n",
    "    f = edata['source']\n",
    "    to = edata['target']\n",
    "    \n",
    "    for f, to, edata in G.edges(data = True):\n",
    "        if edata['weight'] > weight:\n",
    "            G2.add_edge(f, to)\n",
    "    return G2\n",
    "\n",
    "def islandMethod(g, iterations = 5):\n",
    "    weights = [edata['weight'] for f, to, edata in g.edges(data = True)]\n",
    "    mn = int(min(weights))\n",
    "    mx = int(max(weights))\n",
    "    step = int((mx - mn) / iterations)\n",
    "    return([[threshold, trimEdges(g, threshold)]\n",
    "           for threshold in range(mn, mx, step)])"
   ]
  },
  {
   "cell_type": "markdown",
   "id": "cdbc4b20",
   "metadata": {},
   "source": [
    "# Preprocessing\n",
    "***"
   ]
  },
  {
   "cell_type": "code",
   "execution_count": 4,
   "id": "42c0d13b",
   "metadata": {},
   "outputs": [],
   "source": [
    "companies = cleanDF(companyInfo(pathToList(com_dir)))\n",
    "# Drop rows with no names\n",
    "companies = companies[companies.officer0 != 'nan']\n",
    "\n",
    "investments = investmentInfo(pathToList(inv_dir))\n",
    "edges = defineEdges(companies, investments)\n",
    "expanded_edges = expandEdges(edges)\n",
    "\n",
    "reversed_edges = defaultdict(list)\n",
    "for key, value in edges.items():\n",
    "    for item in value:\n",
    "        reversed_edges[item].append(key)"
   ]
  },
  {
   "cell_type": "markdown",
   "id": "5597e45d",
   "metadata": {},
   "source": [
    "# Network Analysis\n",
    "***"
   ]
  },
  {
   "cell_type": "code",
   "execution_count": 6,
   "id": "6999c2de",
   "metadata": {},
   "outputs": [
    {
     "data": {
      "text/plain": [
       "7177"
      ]
     },
     "execution_count": 6,
     "metadata": {},
     "output_type": "execute_result"
    }
   ],
   "source": [
    "G = nx.Graph()\n",
    "\n",
    "company_nodes = edges.keys()\n",
    "people_nodes = reversed_edges.keys()\n",
    "\n",
    "G.add_nodes_from(company_nodes, bipartite = 'Companies')\n",
    "G.add_nodes_from(people_nodes, bipartite = 'People')\n",
    "G.add_edges_from(expanded_edges)\n",
    "\n",
    "G.number_of_nodes()"
   ]
  },
  {
   "cell_type": "code",
   "execution_count": 7,
   "id": "af57d9a5",
   "metadata": {},
   "outputs": [
    {
     "data": {
      "text/plain": [
       "47465"
      ]
     },
     "execution_count": 7,
     "metadata": {},
     "output_type": "execute_result"
    }
   ],
   "source": [
    "G.number_of_edges()"
   ]
  },
  {
   "cell_type": "code",
   "execution_count": 13,
   "id": "f6a61a75",
   "metadata": {
    "scrolled": true
   },
   "outputs": [],
   "source": [
    "P = bipartite.weighted_projected_graph(G, people_nodes)"
   ]
  },
  {
   "cell_type": "code",
   "execution_count": 9,
   "id": "5b31f437",
   "metadata": {},
   "outputs": [
    {
     "data": {
      "text/plain": [
       "6879"
      ]
     },
     "execution_count": 9,
     "metadata": {},
     "output_type": "execute_result"
    }
   ],
   "source": [
    "P.number_of_edges()"
   ]
  },
  {
   "cell_type": "code",
   "execution_count": 14,
   "id": "c7ab4dd2",
   "metadata": {},
   "outputs": [
    {
     "name": "stdout",
     "output_type": "stream",
     "text": [
      "Threshold: 1\n",
      "Number of Nodes: 2747\n",
      "Length of Connected Components\n"
     ]
    },
    {
     "data": {
      "text/html": [
       "<div>\n",
       "<style scoped>\n",
       "    .dataframe tbody tr th:only-of-type {\n",
       "        vertical-align: middle;\n",
       "    }\n",
       "\n",
       "    .dataframe tbody tr th {\n",
       "        vertical-align: top;\n",
       "    }\n",
       "\n",
       "    .dataframe thead th {\n",
       "        text-align: right;\n",
       "    }\n",
       "</style>\n",
       "<table border=\"1\" class=\"dataframe\">\n",
       "  <thead>\n",
       "    <tr style=\"text-align: right;\">\n",
       "      <th></th>\n",
       "      <th>78</th>\n",
       "      <th>2669</th>\n",
       "    </tr>\n",
       "  </thead>\n",
       "  <tbody>\n",
       "    <tr>\n",
       "      <th>0</th>\n",
       "      <td>1</td>\n",
       "      <td>1</td>\n",
       "    </tr>\n",
       "  </tbody>\n",
       "</table>\n",
       "</div>"
      ],
      "text/plain": [
       "   78    2669\n",
       "0     1     1"
      ]
     },
     "metadata": {},
     "output_type": "display_data"
    },
    {
     "name": "stdout",
     "output_type": "stream",
     "text": [
      "\n",
      "Threshold: 478\n",
      "Number of Nodes: 20\n",
      "Length of Connected Components\n"
     ]
    },
    {
     "data": {
      "text/html": [
       "<div>\n",
       "<style scoped>\n",
       "    .dataframe tbody tr th:only-of-type {\n",
       "        vertical-align: middle;\n",
       "    }\n",
       "\n",
       "    .dataframe tbody tr th {\n",
       "        vertical-align: top;\n",
       "    }\n",
       "\n",
       "    .dataframe thead th {\n",
       "        text-align: right;\n",
       "    }\n",
       "</style>\n",
       "<table border=\"1\" class=\"dataframe\">\n",
       "  <thead>\n",
       "    <tr style=\"text-align: right;\">\n",
       "      <th></th>\n",
       "      <th>20</th>\n",
       "    </tr>\n",
       "  </thead>\n",
       "  <tbody>\n",
       "    <tr>\n",
       "      <th>0</th>\n",
       "      <td>1</td>\n",
       "    </tr>\n",
       "  </tbody>\n",
       "</table>\n",
       "</div>"
      ],
      "text/plain": [
       "   20\n",
       "0   1"
      ]
     },
     "metadata": {},
     "output_type": "display_data"
    },
    {
     "name": "stdout",
     "output_type": "stream",
     "text": [
      "\n",
      "Threshold: 955\n",
      "Number of Nodes: 17\n",
      "Length of Connected Components\n"
     ]
    },
    {
     "data": {
      "text/html": [
       "<div>\n",
       "<style scoped>\n",
       "    .dataframe tbody tr th:only-of-type {\n",
       "        vertical-align: middle;\n",
       "    }\n",
       "\n",
       "    .dataframe tbody tr th {\n",
       "        vertical-align: top;\n",
       "    }\n",
       "\n",
       "    .dataframe thead th {\n",
       "        text-align: right;\n",
       "    }\n",
       "</style>\n",
       "<table border=\"1\" class=\"dataframe\">\n",
       "  <thead>\n",
       "    <tr style=\"text-align: right;\">\n",
       "      <th></th>\n",
       "      <th>17</th>\n",
       "    </tr>\n",
       "  </thead>\n",
       "  <tbody>\n",
       "    <tr>\n",
       "      <th>0</th>\n",
       "      <td>1</td>\n",
       "    </tr>\n",
       "  </tbody>\n",
       "</table>\n",
       "</div>"
      ],
      "text/plain": [
       "   17\n",
       "0   1"
      ]
     },
     "metadata": {},
     "output_type": "display_data"
    },
    {
     "name": "stdout",
     "output_type": "stream",
     "text": [
      "\n",
      "Threshold: 1432\n",
      "Number of Nodes: 14\n",
      "Length of Connected Components\n"
     ]
    },
    {
     "data": {
      "text/html": [
       "<div>\n",
       "<style scoped>\n",
       "    .dataframe tbody tr th:only-of-type {\n",
       "        vertical-align: middle;\n",
       "    }\n",
       "\n",
       "    .dataframe tbody tr th {\n",
       "        vertical-align: top;\n",
       "    }\n",
       "\n",
       "    .dataframe thead th {\n",
       "        text-align: right;\n",
       "    }\n",
       "</style>\n",
       "<table border=\"1\" class=\"dataframe\">\n",
       "  <thead>\n",
       "    <tr style=\"text-align: right;\">\n",
       "      <th></th>\n",
       "      <th>14</th>\n",
       "    </tr>\n",
       "  </thead>\n",
       "  <tbody>\n",
       "    <tr>\n",
       "      <th>0</th>\n",
       "      <td>1</td>\n",
       "    </tr>\n",
       "  </tbody>\n",
       "</table>\n",
       "</div>"
      ],
      "text/plain": [
       "   14\n",
       "0   1"
      ]
     },
     "metadata": {},
     "output_type": "display_data"
    },
    {
     "name": "stdout",
     "output_type": "stream",
     "text": [
      "\n",
      "Threshold: 1909\n",
      "Number of Nodes: 13\n",
      "Length of Connected Components\n"
     ]
    },
    {
     "data": {
      "text/html": [
       "<div>\n",
       "<style scoped>\n",
       "    .dataframe tbody tr th:only-of-type {\n",
       "        vertical-align: middle;\n",
       "    }\n",
       "\n",
       "    .dataframe tbody tr th {\n",
       "        vertical-align: top;\n",
       "    }\n",
       "\n",
       "    .dataframe thead th {\n",
       "        text-align: right;\n",
       "    }\n",
       "</style>\n",
       "<table border=\"1\" class=\"dataframe\">\n",
       "  <thead>\n",
       "    <tr style=\"text-align: right;\">\n",
       "      <th></th>\n",
       "      <th>13</th>\n",
       "    </tr>\n",
       "  </thead>\n",
       "  <tbody>\n",
       "    <tr>\n",
       "      <th>0</th>\n",
       "      <td>1</td>\n",
       "    </tr>\n",
       "  </tbody>\n",
       "</table>\n",
       "</div>"
      ],
      "text/plain": [
       "   13\n",
       "0   1"
      ]
     },
     "metadata": {},
     "output_type": "display_data"
    },
    {
     "name": "stdout",
     "output_type": "stream",
     "text": [
      "\n",
      "Threshold: 2386\n",
      "Number of Nodes: 2\n",
      "Length of Connected Components\n"
     ]
    },
    {
     "data": {
      "text/html": [
       "<div>\n",
       "<style scoped>\n",
       "    .dataframe tbody tr th:only-of-type {\n",
       "        vertical-align: middle;\n",
       "    }\n",
       "\n",
       "    .dataframe tbody tr th {\n",
       "        vertical-align: top;\n",
       "    }\n",
       "\n",
       "    .dataframe thead th {\n",
       "        text-align: right;\n",
       "    }\n",
       "</style>\n",
       "<table border=\"1\" class=\"dataframe\">\n",
       "  <thead>\n",
       "    <tr style=\"text-align: right;\">\n",
       "      <th></th>\n",
       "      <th>2</th>\n",
       "    </tr>\n",
       "  </thead>\n",
       "  <tbody>\n",
       "    <tr>\n",
       "      <th>0</th>\n",
       "      <td>1</td>\n",
       "    </tr>\n",
       "  </tbody>\n",
       "</table>\n",
       "</div>"
      ],
      "text/plain": [
       "   2\n",
       "0  1"
      ]
     },
     "metadata": {},
     "output_type": "display_data"
    },
    {
     "name": "stdout",
     "output_type": "stream",
     "text": [
      "\n"
     ]
    }
   ],
   "source": [
    "islands_P = islandMethod(P)\n",
    "\n",
    "for i in islands_P:\n",
    "    print('Threshold: ' + str(i[0]))\n",
    "    print('Number of Nodes: ' + str(len(i[1])))\n",
    "    print('Length of Connected Components')\n",
    "    display(pd.DataFrame(pd.Series([len(c) for c in sorted(nx.connected_components(i[1]), key=len)]).value_counts().sort_index()).T)\n",
    "    print()"
   ]
  },
  {
   "cell_type": "code",
   "execution_count": 21,
   "id": "0580ed54",
   "metadata": {},
   "outputs": [
    {
     "data": {
      "image/png": "[encoded data removed]",
      "text/plain": [
       "<Figure size 432x288 with 1 Axes>"
      ]
     },
     "metadata": {},
     "output_type": "display_data"
    }
   ],
   "source": [
    "island = islands_P[1][1]\n",
    "nx.draw(island, with_labels = True)\n",
    "plt.show()"
   ]
  },
  {
   "cell_type": "code",
   "execution_count": null,
   "id": "15071164",
   "metadata": {},
   "outputs": [],
   "source": []
  }
 ],
 "metadata": {
  "kernelspec": {
   "display_name": "Python 3 (ipykernel)",
   "language": "python",
   "name": "python3"
  },
  "language_info": {
   "codemirror_mode": {
    "name": "ipython",
    "version": 3
   },
   "file_extension": ".py",
   "mimetype": "text/x-python",
   "name": "python",
   "nbconvert_exporter": "python",
   "pygments_lexer": "ipython3",
   "version": "3.9.6"
  }
 },
 "nbformat": 4,
 "nbformat_minor": 5
}
